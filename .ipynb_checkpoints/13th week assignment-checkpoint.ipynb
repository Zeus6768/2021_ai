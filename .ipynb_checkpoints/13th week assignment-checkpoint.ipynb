{
 "cells": [
  {
   "cell_type": "markdown",
   "id": "85262529",
   "metadata": {},
   "source": [
    "# Multi-Layer Perceptron with MNIST handwritten digits classification "
   ]
  },
  {
   "cell_type": "markdown",
   "id": "72f8eedf",
   "metadata": {},
   "source": [
    "## 1. Module Import"
   ]
  },
  {
   "cell_type": "code",
   "execution_count": 1,
   "id": "315ebfe8",
   "metadata": {},
   "outputs": [],
   "source": [
    "import numpy as np\n",
    "import matplotlib.pyplot as plt\n",
    "\n",
    "import torch\n",
    "from torchvision import datasets\n",
    "import torchvision.transforms as transforms"
   ]
  },
  {
   "cell_type": "markdown",
   "id": "798bac6b",
   "metadata": {},
   "source": [
    "## 2. 딥러닝 모델을 설계할 때 활용하는 장비 확인"
   ]
  },
  {
   "cell_type": "code",
   "execution_count": 2,
   "id": "4c9880ae",
   "metadata": {},
   "outputs": [
    {
     "name": "stdout",
     "output_type": "stream",
     "text": [
      "Using PyTorch version: 1.10.0  Device: cpu\n"
     ]
    }
   ],
   "source": [
    "if torch.cuda.is_available():\n",
    "    device = torch.device('cuda')\n",
    "else:\n",
    "    device = torch.device('cpu')\n",
    "\n",
    "print('Using PyTorch version:', torch.__version__, ' Device:', device)"
   ]
  },
  {
   "cell_type": "markdown",
   "id": "3f5590af",
   "metadata": {},
   "source": [
    "## 3. MNIST 데이터 다운로드 (Train data와 Test data 분리하기)"
   ]
  },
  {
   "cell_type": "code",
   "execution_count": 3,
   "id": "00908077",
   "metadata": {},
   "outputs": [
    {
     "name": "stdout",
     "output_type": "stream",
     "text": [
      "Downloading http://yann.lecun.com/exdb/mnist/train-images-idx3-ubyte.gz\n",
      "Downloading http://yann.lecun.com/exdb/mnist/train-images-idx3-ubyte.gz to ./data\\MNIST\\raw\\train-images-idx3-ubyte.gz\n"
     ]
    },
    {
     "name": "stderr",
     "output_type": "stream",
     "text": [
      "100.0%\n"
     ]
    },
    {
     "name": "stdout",
     "output_type": "stream",
     "text": [
      "Extracting ./data\\MNIST\\raw\\train-images-idx3-ubyte.gz to ./data\\MNIST\\raw\n",
      "\n",
      "Downloading http://yann.lecun.com/exdb/mnist/train-labels-idx1-ubyte.gz\n",
      "Downloading http://yann.lecun.com/exdb/mnist/train-labels-idx1-ubyte.gz to ./data\\MNIST\\raw\\train-labels-idx1-ubyte.gz\n"
     ]
    },
    {
     "name": "stderr",
     "output_type": "stream",
     "text": [
      "102.8%\n",
      "0.1%"
     ]
    },
    {
     "name": "stdout",
     "output_type": "stream",
     "text": [
      "Extracting ./data\\MNIST\\raw\\train-labels-idx1-ubyte.gz to ./data\\MNIST\\raw\n",
      "\n",
      "Downloading http://yann.lecun.com/exdb/mnist/t10k-images-idx3-ubyte.gz\n",
      "Downloading http://yann.lecun.com/exdb/mnist/t10k-images-idx3-ubyte.gz to ./data\\MNIST\\raw\\t10k-images-idx3-ubyte.gz\n"
     ]
    },
    {
     "name": "stderr",
     "output_type": "stream",
     "text": [
      "100.0%\n"
     ]
    },
    {
     "name": "stdout",
     "output_type": "stream",
     "text": [
      "Extracting ./data\\MNIST\\raw\\t10k-images-idx3-ubyte.gz to ./data\\MNIST\\raw\n",
      "\n",
      "Downloading http://yann.lecun.com/exdb/mnist/t10k-labels-idx1-ubyte.gz\n"
     ]
    },
    {
     "name": "stderr",
     "output_type": "stream",
     "text": [
      "112.7%"
     ]
    },
    {
     "name": "stdout",
     "output_type": "stream",
     "text": [
      "Downloading http://yann.lecun.com/exdb/mnist/t10k-labels-idx1-ubyte.gz to ./data\\MNIST\\raw\\t10k-labels-idx1-ubyte.gz\n",
      "Extracting ./data\\MNIST\\raw\\t10k-labels-idx1-ubyte.gz to ./data\\MNIST\\raw\n",
      "\n"
     ]
    },
    {
     "name": "stderr",
     "output_type": "stream",
     "text": [
      "\n"
     ]
    }
   ],
   "source": [
    "BATCH_SIZE = 32\n",
    "\n",
    "train_data = datasets.MNIST('./data', train=True, download=True, transform=transforms.ToTensor())\n",
    "test_data = datasets.MNIST('./data', train=False, download=True, transform=transforms.ToTensor())\n",
    "\n",
    "train_loader = torch.utils.data.DataLoader(dataset=train_data, batch_size=BATCH_SIZE, shuffle=False)\n",
    "test_loader = torch.utils.data.DataLoader(dataset=test_data, batch_size=BATCH_SIZE, shuffle=False)\n"
   ]
  },
  {
   "cell_type": "markdown",
   "id": "b4d744b2",
   "metadata": {},
   "source": [
    "## 4. torch.nn을 이용하여 모델 만들기\n",
    "\n",
    "   1) input layer (입력층), hidden layer (은닉층), output layer (출력층) 으로 이루어진 모델을 이용\n",
    "\n",
    "   2) 하나의 hidden layer (은닉층)만 이용 - 은닉층의 개수는 100개로 하세요\n",
    "   \n",
    "   3) nn.Module을 상속 받아 만들 것!\n",
    "   \n",
    "   4) nn.Linear와 nn.ReLU를 사용할 것!\n"
   ]
  },
  {
   "cell_type": "code",
   "execution_count": 4,
   "id": "1be27a8c",
   "metadata": {},
   "outputs": [],
   "source": [
    "import torch.nn as nn\n",
    "\n",
    "class Model(nn.Module):\n",
    "    def __init__(self):\n",
    "        super(Model, self).__init__()\n",
    "        self.fc1 = nn.Linear(784, 100) # Fully-Connected Layer 만들기\n",
    "        self.fc2 = nn.Linear(100, 10) # Fully-Connected Layer 만들기\n",
    "        self.relu = nn.ReLU() # ReLU class의 instance 만들기\n",
    "\n",
    "    def forward(self,x):  # layer 간 연결\n",
    "        x = self.fc1(x)\n",
    "        x = self.relu(x)\n",
    "        x = self.fc2(x)\n",
    "        return x"
   ]
  },
  {
   "cell_type": "markdown",
   "id": "a07645f5",
   "metadata": {},
   "source": [
    "## 6. 학습 준비하기\n",
    "\n",
    "1) 모델 instance 만들기\n",
    "\n",
    "2) Cross Entropy Loss 의 instance 만들기\n",
    "\n",
    "3) torch.optim 준비 하고 Optimizier instance 만들기 (Stochastic Gradient Descent 방식)\n",
    "\n",
    "4) 기타 상수 준비하기 (learning_rate 등)"
   ]
  },
  {
   "cell_type": "code",
   "execution_count": 5,
   "id": "52ab1583",
   "metadata": {},
   "outputs": [],
   "source": [
    "import torch.optim as optim # torch.optim 을 optim 으로 import 하기\n",
    "\n",
    "network = Model() # 위에서 만든 Model Class의 instance 만들기\n",
    "\n",
    "cls_loss = nn.CrossEntropyLoss() # Cross Entropy Loss Class의 instance 만들기\n",
    "\n",
    "learning_rate = 0.01\n",
    "optimizer = optim.SGD(network.parameters(), lr=learning_rate) # Stochastic Gradinet Descent 의 optimizer 만들기\n",
    "epoches = 12 # 마음대로 변경 가능함"
   ]
  },
  {
   "cell_type": "code",
   "execution_count": 6,
   "id": "11604b36",
   "metadata": {},
   "outputs": [],
   "source": [
    "def training(train_loader):\n",
    "\n",
    "    train_losses_per_epoch = []\n",
    "    test_losses_per_epoch = []\n",
    "    log_interval = 500\n",
    "    \n",
    "    train_accuracies = []\n",
    "    test_accuracies = []\n",
    "    \n",
    "    \n",
    "    for epoch in range(epoches):\n",
    "        \n",
    "        train_losses = []\n",
    "        test_losses = []\n",
    "        train_correct = 0\n",
    "        \n",
    "        # 모델를 학습 중이라고 선언하기\n",
    "        network.train() # 여기 채우기\n",
    "        \n",
    "        for batch_idx, (image, label) in enumerate(train_loader):\n",
    "            # 미분값의 초기화\n",
    "            optimizer.zero_grad()\n",
    "            \n",
    "            # 이미지를 (batch_size, 784) 차원의 메트릭스로 만드세요\n",
    "            image = image.view(32, 28 * 28)\n",
    "            \n",
    "            # Forward propagration 계산하기.\n",
    "            outputs = network.forward(image)\n",
    "            \n",
    "            # Cross_entropy 함수를 적용하여 loss를 구하고 저장하기\n",
    "            loss = cls_loss(outputs, label)\n",
    "            train_losses.append(loss.item())\n",
    "            \n",
    "            # training accuracy 정확도 구하기 위해 맞는 샘플 개수 세기\n",
    "            pred = torch.argmax(outputs, dim=1)\n",
    "            train_correct += torch.eq(pred, label).sum()\n",
    "\n",
    "            # Gradinet 구하기\n",
    "            loss.backward()\n",
    "\n",
    "            # weight값 update 하기\n",
    "            optimizer.step()\n",
    "            \n",
    "            # 학습 상황 출력\n",
    "            if batch_idx % log_interval == 0:\n",
    "                print('Train Epoch: {} [{}/{} ({:.0f}%)]\\tLoss: {:.6f}'\n",
    "                      .format(epoch, batch_idx * len(label), len(train_loader.dataset),100. * batch_idx / len(train_loader),\n",
    "                              loss.item()))\n",
    "        \n",
    "        # epoch 별로 loss 평균값, 정확도 구하기\n",
    "        average_loss = np.mean(train_losses)\n",
    "        train_losses_per_epoch.append(average_loss)\n",
    "        \n",
    "        train_accuracy = train_correct / len(train_loader.dataset) * 100\n",
    "        train_accuracies.append(train_accuracy)\n",
    "        \n",
    "        # epoch 별로 정확도 출력\n",
    "        print('\\nTraining set: Accuracy: {}/{} ({:.0f}%)'\n",
    "              .format(train_correct, len(train_loader.dataset),100. * train_correct / len(train_loader.dataset)))\n",
    "\n",
    "        \n",
    "        ### 학습 중에 test 결과 보기\n",
    "        \n",
    "        # 모델 test 중인 것을 선언하기\n",
    "        network.eval()\n",
    "        \n",
    "        correct = 0\n",
    "        with torch.no_grad():\n",
    "            for batch_idx, (image, label) in enumerate(test_loader):\n",
    "                image = image.view(-1, 28 * 28)\n",
    "\n",
    "                # Forward propagration 계산하기.\n",
    "                outputs = network.forward(image) # 여기 채우기\n",
    "                \n",
    "                # Cross_entropy 함수를 적용하여 loss를 구하기\n",
    "                loss = cls_loss(outputs, label) # 여기 채우기\n",
    "                test_losses.append(loss.item())\n",
    " \n",
    "                # Batch 별로 정확도 구하기\n",
    "                pred = torch.argmax(outputs, dim=1) # 여기 채우기\n",
    "                correct += torch.eq(pred, label).sum() # 여기 채우기\n",
    "        \n",
    "            # 전체 정확도 구하기\n",
    "            test_accuracy = 100. * correct / len(test_loader.dataset)\n",
    "            \n",
    "            #중간결과 출력\n",
    "            print('Test set: Accuracy: {}/{} ({:.0f}%)\\n'\n",
    "                  .format(correct, len(test_loader.dataset),100. * correct / len(test_loader.dataset)))\n",
    "        test_losses_per_epoch.append(np.mean(test_losses))\n",
    "        test_accuracies.append(test_accuracy)\n",
    "        \n",
    "    return train_losses_per_epoch, test_losses_per_epoch, train_accuracies, test_accuracies\n"
   ]
  },
  {
   "cell_type": "code",
   "execution_count": 7,
   "id": "d73d05eb",
   "metadata": {},
   "outputs": [
    {
     "name": "stdout",
     "output_type": "stream",
     "text": [
      "Train Epoch: 0 [0/60000 (0%)]\tLoss: 2.299430\n",
      "Train Epoch: 0 [16000/60000 (27%)]\tLoss: 1.246324\n",
      "Train Epoch: 0 [32000/60000 (53%)]\tLoss: 0.556150\n",
      "Train Epoch: 0 [48000/60000 (80%)]\tLoss: 0.327200\n",
      "\n",
      "Training set: Accuracy: 48610/60000 (81%)\n",
      "Test set: Accuracy: 8891/10000 (89%)\n",
      "\n",
      "Train Epoch: 1 [0/60000 (0%)]\tLoss: 0.519632\n",
      "Train Epoch: 1 [16000/60000 (27%)]\tLoss: 0.535336\n",
      "Train Epoch: 1 [32000/60000 (53%)]\tLoss: 0.387717\n",
      "Train Epoch: 1 [48000/60000 (80%)]\tLoss: 0.223530\n",
      "\n",
      "Training set: Accuracy: 53802/60000 (90%)\n",
      "Test set: Accuracy: 9070/10000 (91%)\n",
      "\n",
      "Train Epoch: 2 [0/60000 (0%)]\tLoss: 0.374993\n",
      "Train Epoch: 2 [16000/60000 (27%)]\tLoss: 0.428042\n",
      "Train Epoch: 2 [32000/60000 (53%)]\tLoss: 0.360637\n",
      "Train Epoch: 2 [48000/60000 (80%)]\tLoss: 0.195883\n",
      "\n",
      "Training set: Accuracy: 54547/60000 (91%)\n",
      "Test set: Accuracy: 9167/10000 (92%)\n",
      "\n",
      "Train Epoch: 3 [0/60000 (0%)]\tLoss: 0.297652\n",
      "Train Epoch: 3 [16000/60000 (27%)]\tLoss: 0.377917\n",
      "Train Epoch: 3 [32000/60000 (53%)]\tLoss: 0.349238\n",
      "Train Epoch: 3 [48000/60000 (80%)]\tLoss: 0.178576\n",
      "\n",
      "Training set: Accuracy: 55056/60000 (92%)\n",
      "Test set: Accuracy: 9234/10000 (92%)\n",
      "\n",
      "Train Epoch: 4 [0/60000 (0%)]\tLoss: 0.244053\n",
      "Train Epoch: 4 [16000/60000 (27%)]\tLoss: 0.341649\n",
      "Train Epoch: 4 [32000/60000 (53%)]\tLoss: 0.342812\n",
      "Train Epoch: 4 [48000/60000 (80%)]\tLoss: 0.162582\n",
      "\n",
      "Training set: Accuracy: 55426/60000 (92%)\n",
      "Test set: Accuracy: 9291/10000 (93%)\n",
      "\n",
      "Train Epoch: 5 [0/60000 (0%)]\tLoss: 0.204003\n",
      "Train Epoch: 5 [16000/60000 (27%)]\tLoss: 0.316522\n",
      "Train Epoch: 5 [32000/60000 (53%)]\tLoss: 0.335862\n",
      "Train Epoch: 5 [48000/60000 (80%)]\tLoss: 0.150019\n",
      "\n",
      "Training set: Accuracy: 55765/60000 (93%)\n",
      "Test set: Accuracy: 9330/10000 (93%)\n",
      "\n",
      "Train Epoch: 6 [0/60000 (0%)]\tLoss: 0.173315\n",
      "Train Epoch: 6 [16000/60000 (27%)]\tLoss: 0.295685\n",
      "Train Epoch: 6 [32000/60000 (53%)]\tLoss: 0.327925\n",
      "Train Epoch: 6 [48000/60000 (80%)]\tLoss: 0.139274\n",
      "\n",
      "Training set: Accuracy: 56048/60000 (93%)\n",
      "Test set: Accuracy: 9365/10000 (94%)\n",
      "\n",
      "Train Epoch: 7 [0/60000 (0%)]\tLoss: 0.152247\n",
      "Train Epoch: 7 [16000/60000 (27%)]\tLoss: 0.280426\n",
      "Train Epoch: 7 [32000/60000 (53%)]\tLoss: 0.318945\n",
      "Train Epoch: 7 [48000/60000 (80%)]\tLoss: 0.130179\n",
      "\n",
      "Training set: Accuracy: 56311/60000 (94%)\n",
      "Test set: Accuracy: 9398/10000 (94%)\n",
      "\n",
      "Train Epoch: 8 [0/60000 (0%)]\tLoss: 0.137130\n",
      "Train Epoch: 8 [16000/60000 (27%)]\tLoss: 0.269151\n",
      "Train Epoch: 8 [32000/60000 (53%)]\tLoss: 0.311125\n",
      "Train Epoch: 8 [48000/60000 (80%)]\tLoss: 0.120921\n",
      "\n",
      "Training set: Accuracy: 56571/60000 (94%)\n",
      "Test set: Accuracy: 9425/10000 (94%)\n",
      "\n",
      "Train Epoch: 9 [0/60000 (0%)]\tLoss: 0.124015\n",
      "Train Epoch: 9 [16000/60000 (27%)]\tLoss: 0.258604\n",
      "Train Epoch: 9 [32000/60000 (53%)]\tLoss: 0.303296\n",
      "Train Epoch: 9 [48000/60000 (80%)]\tLoss: 0.113543\n",
      "\n",
      "Training set: Accuracy: 56754/60000 (95%)\n",
      "Test set: Accuracy: 9457/10000 (95%)\n",
      "\n",
      "Train Epoch: 10 [0/60000 (0%)]\tLoss: 0.112269\n",
      "Train Epoch: 10 [16000/60000 (27%)]\tLoss: 0.250170\n",
      "Train Epoch: 10 [32000/60000 (53%)]\tLoss: 0.294748\n",
      "Train Epoch: 10 [48000/60000 (80%)]\tLoss: 0.106040\n",
      "\n",
      "Training set: Accuracy: 56921/60000 (95%)\n",
      "Test set: Accuracy: 9477/10000 (95%)\n",
      "\n",
      "Train Epoch: 11 [0/60000 (0%)]\tLoss: 0.102938\n",
      "Train Epoch: 11 [16000/60000 (27%)]\tLoss: 0.243118\n",
      "Train Epoch: 11 [32000/60000 (53%)]\tLoss: 0.285327\n",
      "Train Epoch: 11 [48000/60000 (80%)]\tLoss: 0.102283\n",
      "\n",
      "Training set: Accuracy: 57075/60000 (95%)\n",
      "Test set: Accuracy: 9490/10000 (95%)\n",
      "\n"
     ]
    }
   ],
   "source": [
    "train_losses_per_epoch, test_losses_per_epoch, train_accuracies, test_accuracies = training(train_loader)"
   ]
  },
  {
   "cell_type": "markdown",
   "id": "5480845d",
   "metadata": {},
   "source": [
    "# 학습 결과 보기 \n",
    "## 1. loss 값 비교"
   ]
  },
  {
   "cell_type": "code",
   "execution_count": 8,
   "id": "24de3674",
   "metadata": {},
   "outputs": [
    {
     "data": {
      "image/png": "[encoded data removed]",
      "text/plain": [
       "<Figure size 432x288 with 1 Axes>"
      ]
     },
     "metadata": {
      "needs_background": "light"
     },
     "output_type": "display_data"
    }
   ],
   "source": [
    "x = np.arange(1,epoches+1)\n",
    "plt.plot(x,train_losses_per_epoch, x,test_losses_per_epoch)\n",
    "plt.legend(('training loss', 'test loss'), loc='upper right', shadow=True)\n",
    "plt.xlabel('Epoches --->')\n",
    "plt.ylabel('Loss --->')\n",
    "plt.xlim([0,21])\n",
    "plt.xticks(np.arange(1, epoches+1, step=1))\n",
    "plt.show()"
   ]
  },
  {
   "cell_type": "markdown",
   "id": "6a5a3e2e",
   "metadata": {},
   "source": [
    "# 2. 정확도 비교"
   ]
  },
  {
   "cell_type": "code",
   "execution_count": 9,
   "id": "6e8ac303",
   "metadata": {},
   "outputs": [
    {
     "data": {
      "image/png": "[encoded data removed]",
      "text/plain": [
       "<Figure size 432x288 with 1 Axes>"
      ]
     },
     "metadata": {
      "needs_background": "light"
     },
     "output_type": "display_data"
    }
   ],
   "source": [
    "x = np.arange(1,epoches+1)\n",
    "plt.plot(x, train_accuracies, x, test_accuracies)\n",
    "plt.legend(('training accuracy', 'test accuracy'), loc='lower right', shadow=True)\n",
    "plt.xlabel('Epoches --->')\n",
    "plt.ylabel('Accuracy --->')\n",
    "plt.xlim([0,21])\n",
    "plt.xticks(np.arange(1, epoches+1, step=1))\n",
    "plt.show()"
   ]
  }
 ],
 "metadata": {
  "kernelspec": {
   "display_name": "Python 3 (ipykernel)",
   "language": "python",
   "name": "python3"
  },
  "language_info": {
   "codemirror_mode": {
    "name": "ipython",
    "version": 3
   },
   "file_extension": ".py",
   "mimetype": "text/x-python",
   "name": "python",
   "nbconvert_exporter": "python",
   "pygments_lexer": "ipython3",
   "version": "3.7.11"
  }
 },
 "nbformat": 4,
 "nbformat_minor": 5
}
