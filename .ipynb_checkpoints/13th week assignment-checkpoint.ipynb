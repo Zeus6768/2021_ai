{
 "cells": [
  {
   "cell_type": "markdown",
   "id": "85262529",
   "metadata": {},
   "source": [
    "# Multi-Layer Perceptron with MNIST handwritten digits classification "
   ]
  },
  {
   "cell_type": "markdown",
   "id": "72f8eedf",
   "metadata": {},
   "source": [
    "## 1. Module Import"
   ]
  },
  {
   "cell_type": "code",
   "execution_count": 1,
   "id": "315ebfe8",
   "metadata": {},
   "outputs": [],
   "source": [
    "import numpy as np\n",
    "import matplotlib.pyplot as plt\n",
    "\n",
    "import torch\n",
    "from torchvision import datasets\n",
    "import torchvision.transforms as transforms"
   ]
  },
  {
   "cell_type": "markdown",
   "id": "798bac6b",
   "metadata": {},
   "source": [
    "## 2. 딥러닝 모델을 설계할 때 활용하는 장비 확인"
   ]
  },
  {
   "cell_type": "code",
   "execution_count": 2,
   "id": "4c9880ae",
   "metadata": {},
   "outputs": [
    {
     "name": "stdout",
     "output_type": "stream",
     "text": [
      "Using PyTorch version: 1.10.0  Device: cpu\n"
     ]
    }
   ],
   "source": [
    "if torch.cuda.is_available():\n",
    "    device = torch.device('cuda')\n",
    "else:\n",
    "    device = torch.device('cpu')\n",
    "\n",
    "print('Using PyTorch version:', torch.__version__, ' Device:', device)"
   ]
  },
  {
   "cell_type": "markdown",
   "id": "3f5590af",
   "metadata": {},
   "source": [
    "## 3. MNIST 데이터 다운로드 (Train data와 Test data 분리하기)"
   ]
  },
  {
   "cell_type": "code",
   "execution_count": 3,
   "id": "00908077",
   "metadata": {},
   "outputs": [],
   "source": [
    "BATCH_SIZE = 32\n",
    "\n",
    "train_data = datasets.MNIST('./data', train=True, download=True, transform=transforms.ToTensor())\n",
    "test_data = datasets.MNIST('./data', train=False, download=True, transform=transforms.ToTensor())\n",
    "\n",
    "train_loader = torch.utils.data.DataLoader(dataset=train_data, batch_size=BATCH_SIZE, shuffle=False)\n",
    "test_loader = torch.utils.data.DataLoader(dataset=test_data, batch_size=BATCH_SIZE, shuffle=False)\n"
   ]
  },
  {
   "cell_type": "markdown",
   "id": "b4d744b2",
   "metadata": {},
   "source": [
    "## 4. torch.nn을 이용하여 모델 만들기\n",
    "\n",
    "   1) input layer (입력층), hidden layer (은닉층), output layer (출력층) 으로 이루어진 모델을 이용\n",
    "\n",
    "   2) 하나의 hidden layer (은닉층)만 이용 - 은닉층의 개수는 100개로 하세요\n",
    "   \n",
    "   3) nn.Module을 상속 받아 만들 것!\n",
    "   \n",
    "   4) nn.Linear와 nn.ReLU를 사용할 것!\n"
   ]
  },
  {
   "cell_type": "code",
   "execution_count": 4,
   "id": "1be27a8c",
   "metadata": {},
   "outputs": [],
   "source": [
    "import # torch.nn 을 nn 으로 import 하기\n",
    "\n",
    "class Model(# nn.Module 상속하기):\n",
    "    def __init__(self):\n",
    "        super(Model, self).__init__()\n",
    "        self.fc1 = # Fully-Connected Layer 만들기\n",
    "        self.fc2 = # Fully-Connected Layer 만들기\n",
    "        self.relu = # ReLU class의 instance 만들기\n",
    "\n",
    "    def forward(self,x):\n",
    "        x = # layer 간 연결\n",
    "        x = # layer 간 연결\n",
    "        x = # layer 간 연결\n",
    "        return x"
   ]
  },
  {
   "cell_type": "markdown",
   "id": "a07645f5",
   "metadata": {},
   "source": [
    "## 6. 학습 준비하기\n",
    "\n",
    "1) 모델 instance 만들기\n",
    "\n",
    "2) Cross Entropy Loss 의 instance 만들기\n",
    "\n",
    "3) torch.optim 준비 하고 Optimizier instance 만들기 (Stochastic Gradient Descent 방식)\n",
    "\n",
    "4) 기타 상수 준비하기 (learning_rate 등)"
   ]
  },
  {
   "cell_type": "code",
   "execution_count": 5,
   "id": "52ab1583",
   "metadata": {},
   "outputs": [],
   "source": [
    "import # torch.optim 을 optim 으로 import 하기\n",
    "\n",
    "network = # 위에서 만든 Model Class의 instance 만들기\n",
    "\n",
    "cls_loss = # Cross Entropy Loss Class의 instance 만들기\n",
    "\n",
    "learning_rate = 0.01\n",
    "optimizer = # Stochastic Gradinet Descent 의 optimizer 만들기\n",
    "epoches = 20 # 마음대로 변경 가능함\n"
   ]
  },
  {
   "cell_type": "code",
   "execution_count": 6,
   "id": "11604b36",
   "metadata": {},
   "outputs": [],
   "source": [
    "def training(train_loader):\n",
    "\n",
    "    train_losses_per_epoch = []\n",
    "    test_losses_per_epoch = []\n",
    "    log_interval = 500\n",
    "    \n",
    "    train_accuracies = []\n",
    "    test_accuracies = []\n",
    "    \n",
    "    \n",
    "    for epoch in range(epoches):\n",
    "        \n",
    "        train_losses = []\n",
    "        test_losses = []\n",
    "        train_correct = 0\n",
    "        \n",
    "        # 모델를 학습 중이라고 선언하기\n",
    "        # 여기 채우기\n",
    "        \n",
    "        for batch_idx, (image, label) in enumerate(train_loader):\n",
    "            # 미분값의 초기화\n",
    "            optimizer.# 여기 채우기\n",
    "            \n",
    "            # 이미지를 (batch_size, 784) 차원의 메트릭스로 만드세요\n",
    "            image = image.view(-1, 28 * 28)\n",
    "            \n",
    "            # Forward propagration 계산하기.\n",
    "            outputs = # 여기 채우기\n",
    "            \n",
    "            # Cross_entropy 함수를 적용하여 loss를 구하고 저장하기\n",
    "            loss = # 여기 채우기\n",
    "            train_losses.append(loss.item())\n",
    "            \n",
    "            # training accuracy 정확도 구하기 위해 맞는 샘플 개수 세기\n",
    "            pred = # 여기 채우기\n",
    "            train_correct += # 여기 채우기\n",
    "\n",
    "            # Gradinet 구하기\n",
    "            loss.backward()\n",
    "\n",
    "            # weight값 update 하기\n",
    "            # 여기 채우기\n",
    "            \n",
    "            # 학습 상황 출력\n",
    "            if batch_idx % log_interval == 0:\n",
    "                print('Train Epoch: {} [{}/{} ({:.0f}%)]\\tLoss: {:.6f}'\n",
    "                      .format(epoch, batch_idx * len(label), len(train_loader.dataset),100. * batch_idx / len(train_loader),\n",
    "                              loss.item()))\n",
    "        \n",
    "        # epoch 별로 loss 평균값, 정확도 구하기\n",
    "        average_loss = np.mean(train_losses)\n",
    "        train_losses_per_epoch.append(average_loss)\n",
    "        \n",
    "        train_accuracy = train_correct / len(train_loader.dataset) * 100\n",
    "        train_accuracies.append(train_accuracy)\n",
    "        \n",
    "        # epoch 별로 정확도 출력\n",
    "        print('\\nTraining set: Accuracy: {}/{} ({:.0f}%)'\n",
    "              .format(train_correct, len(train_loader.dataset),100. * train_correct / len(train_loader.dataset)))\n",
    "\n",
    "        \n",
    "        ### 학습 중에 test 결과 보기\n",
    "        \n",
    "        # 모델 test 중인 것을 선언하기\n",
    "        # 여기 채우기\n",
    "        \n",
    "        correct = 0\n",
    "        with torch.no_grad():\n",
    "            for batch_idx, (image, label) in enumerate(test_loader):\n",
    "                image = image.view(-1, 28 * 28)\n",
    "\n",
    "                # Forward propagration 계산하기.\n",
    "                outputs = # 여기 채우기\n",
    "                \n",
    "                # Cross_entropy 함수를 적용하여 loss를 구하기\n",
    "                loss = # 여기 채우기\n",
    "                test_losses.append(loss.item())\n",
    " \n",
    "                # Batch 별로 정확도 구하기\n",
    "                pred = # 여기 채우기\n",
    "                correct += # 여기 채우기\n",
    "        \n",
    "            # 전체 정확도 구하기\n",
    "            test_accuracy = 100. * correct / len(test_loader.dataset)\n",
    "            \n",
    "            #중간결과 출력\n",
    "            print('Test set: Accuracy: {}/{} ({:.0f}%)\\n'\n",
    "                  .format(correct, len(test_loader.dataset),100. * correct / len(test_loader.dataset)))\n",
    "        test_losses_per_epoch.append(np.mean(test_losses))\n",
    "        test_accuracies.append(test_accuracy)\n",
    "        \n",
    "    return train_losses_per_epoch, test_losses_per_epoch, train_accuracies, test_accuracies\n"
   ]
  },
  {
   "cell_type": "code",
   "execution_count": 7,
   "id": "d73d05eb",
   "metadata": {},
   "outputs": [
    {
     "name": "stdout",
     "output_type": "stream",
     "text": [
      "Train Epoch: 0 [0/60000 (0%)]\tLoss: 2.296285\n",
      "Train Epoch: 0 [16000/60000 (27%)]\tLoss: 1.229381\n",
      "Train Epoch: 0 [32000/60000 (53%)]\tLoss: 0.589877\n",
      "Train Epoch: 0 [48000/60000 (80%)]\tLoss: 0.334153\n",
      "\n",
      "Training set: Accuracy: 48308/60000 (81%)\n",
      "Test set: Accuracy: 8893/10000 (89%)\n",
      "\n",
      "Train Epoch: 1 [0/60000 (0%)]\tLoss: 0.529297\n",
      "Train Epoch: 1 [16000/60000 (27%)]\tLoss: 0.527849\n",
      "Train Epoch: 1 [32000/60000 (53%)]\tLoss: 0.415200\n",
      "Train Epoch: 1 [48000/60000 (80%)]\tLoss: 0.223967\n",
      "\n",
      "Training set: Accuracy: 53762/60000 (90%)\n",
      "Test set: Accuracy: 9061/10000 (91%)\n",
      "\n",
      "Train Epoch: 2 [0/60000 (0%)]\tLoss: 0.384171\n",
      "Train Epoch: 2 [16000/60000 (27%)]\tLoss: 0.414308\n",
      "Train Epoch: 2 [32000/60000 (53%)]\tLoss: 0.389066\n",
      "Train Epoch: 2 [48000/60000 (80%)]\tLoss: 0.203296\n",
      "\n",
      "Training set: Accuracy: 54487/60000 (91%)\n",
      "Test set: Accuracy: 9171/10000 (92%)\n",
      "\n",
      "Train Epoch: 3 [0/60000 (0%)]\tLoss: 0.306937\n",
      "Train Epoch: 3 [16000/60000 (27%)]\tLoss: 0.360650\n",
      "Train Epoch: 3 [32000/60000 (53%)]\tLoss: 0.374461\n",
      "Train Epoch: 3 [48000/60000 (80%)]\tLoss: 0.194502\n",
      "\n",
      "Training set: Accuracy: 55005/60000 (92%)\n",
      "Test set: Accuracy: 9223/10000 (92%)\n",
      "\n",
      "Train Epoch: 4 [0/60000 (0%)]\tLoss: 0.252257\n",
      "Train Epoch: 4 [16000/60000 (27%)]\tLoss: 0.326570\n",
      "Train Epoch: 4 [32000/60000 (53%)]\tLoss: 0.364024\n",
      "Train Epoch: 4 [48000/60000 (80%)]\tLoss: 0.185015\n",
      "\n",
      "Training set: Accuracy: 55394/60000 (92%)\n",
      "Test set: Accuracy: 9273/10000 (93%)\n",
      "\n",
      "Train Epoch: 5 [0/60000 (0%)]\tLoss: 0.211816\n",
      "Train Epoch: 5 [16000/60000 (27%)]\tLoss: 0.306516\n",
      "Train Epoch: 5 [32000/60000 (53%)]\tLoss: 0.352468\n",
      "Train Epoch: 5 [48000/60000 (80%)]\tLoss: 0.177536\n",
      "\n",
      "Training set: Accuracy: 55707/60000 (93%)\n",
      "Test set: Accuracy: 9330/10000 (93%)\n",
      "\n",
      "Train Epoch: 6 [0/60000 (0%)]\tLoss: 0.181327\n",
      "Train Epoch: 6 [16000/60000 (27%)]\tLoss: 0.290890\n",
      "Train Epoch: 6 [32000/60000 (53%)]\tLoss: 0.340035\n",
      "Train Epoch: 6 [48000/60000 (80%)]\tLoss: 0.167534\n",
      "\n",
      "Training set: Accuracy: 55994/60000 (93%)\n",
      "Test set: Accuracy: 9369/10000 (94%)\n",
      "\n",
      "Train Epoch: 7 [0/60000 (0%)]\tLoss: 0.158128\n",
      "Train Epoch: 7 [16000/60000 (27%)]\tLoss: 0.279285\n",
      "Train Epoch: 7 [32000/60000 (53%)]\tLoss: 0.329003\n",
      "Train Epoch: 7 [48000/60000 (80%)]\tLoss: 0.156890\n",
      "\n",
      "Training set: Accuracy: 56249/60000 (94%)\n",
      "Test set: Accuracy: 9395/10000 (94%)\n",
      "\n",
      "Train Epoch: 8 [0/60000 (0%)]\tLoss: 0.139294\n",
      "Train Epoch: 8 [16000/60000 (27%)]\tLoss: 0.266935\n",
      "Train Epoch: 8 [32000/60000 (53%)]\tLoss: 0.318962\n",
      "Train Epoch: 8 [48000/60000 (80%)]\tLoss: 0.147097\n",
      "\n",
      "Training set: Accuracy: 56455/60000 (94%)\n",
      "Test set: Accuracy: 9416/10000 (94%)\n",
      "\n",
      "Train Epoch: 9 [0/60000 (0%)]\tLoss: 0.124306\n",
      "Train Epoch: 9 [16000/60000 (27%)]\tLoss: 0.256606\n",
      "Train Epoch: 9 [32000/60000 (53%)]\tLoss: 0.309345\n",
      "Train Epoch: 9 [48000/60000 (80%)]\tLoss: 0.138202\n",
      "\n",
      "Training set: Accuracy: 56657/60000 (94%)\n",
      "Test set: Accuracy: 9451/10000 (95%)\n",
      "\n",
      "Train Epoch: 10 [0/60000 (0%)]\tLoss: 0.112465\n",
      "Train Epoch: 10 [16000/60000 (27%)]\tLoss: 0.248506\n",
      "Train Epoch: 10 [32000/60000 (53%)]\tLoss: 0.301880\n",
      "Train Epoch: 10 [48000/60000 (80%)]\tLoss: 0.131195\n",
      "\n",
      "Training set: Accuracy: 56828/60000 (95%)\n",
      "Test set: Accuracy: 9477/10000 (95%)\n",
      "\n",
      "Train Epoch: 11 [0/60000 (0%)]\tLoss: 0.103222\n",
      "Train Epoch: 11 [16000/60000 (27%)]\tLoss: 0.241121\n",
      "Train Epoch: 11 [32000/60000 (53%)]\tLoss: 0.295165\n",
      "Train Epoch: 11 [48000/60000 (80%)]\tLoss: 0.124743\n",
      "\n",
      "Training set: Accuracy: 57002/60000 (95%)\n",
      "Test set: Accuracy: 9499/10000 (95%)\n",
      "\n",
      "Train Epoch: 12 [0/60000 (0%)]\tLoss: 0.095925\n",
      "Train Epoch: 12 [16000/60000 (27%)]\tLoss: 0.234362\n",
      "Train Epoch: 12 [32000/60000 (53%)]\tLoss: 0.286779\n",
      "Train Epoch: 12 [48000/60000 (80%)]\tLoss: 0.118856\n",
      "\n",
      "Training set: Accuracy: 57150/60000 (95%)\n",
      "Test set: Accuracy: 9523/10000 (95%)\n",
      "\n",
      "Train Epoch: 13 [0/60000 (0%)]\tLoss: 0.089249\n",
      "Train Epoch: 13 [16000/60000 (27%)]\tLoss: 0.227457\n",
      "Train Epoch: 13 [32000/60000 (53%)]\tLoss: 0.277548\n",
      "Train Epoch: 13 [48000/60000 (80%)]\tLoss: 0.113618\n",
      "\n",
      "Training set: Accuracy: 57298/60000 (95%)\n",
      "Test set: Accuracy: 9543/10000 (95%)\n",
      "\n",
      "Train Epoch: 14 [0/60000 (0%)]\tLoss: 0.083739\n",
      "Train Epoch: 14 [16000/60000 (27%)]\tLoss: 0.219143\n",
      "Train Epoch: 14 [32000/60000 (53%)]\tLoss: 0.269033\n",
      "Train Epoch: 14 [48000/60000 (80%)]\tLoss: 0.109342\n",
      "\n",
      "Training set: Accuracy: 57410/60000 (96%)\n",
      "Test set: Accuracy: 9560/10000 (96%)\n",
      "\n",
      "Train Epoch: 15 [0/60000 (0%)]\tLoss: 0.078179\n",
      "Train Epoch: 15 [16000/60000 (27%)]\tLoss: 0.211714\n",
      "Train Epoch: 15 [32000/60000 (53%)]\tLoss: 0.259351\n",
      "Train Epoch: 15 [48000/60000 (80%)]\tLoss: 0.105877\n",
      "\n",
      "Training set: Accuracy: 57515/60000 (96%)\n",
      "Test set: Accuracy: 9571/10000 (96%)\n",
      "\n",
      "Train Epoch: 16 [0/60000 (0%)]\tLoss: 0.073429\n",
      "Train Epoch: 16 [16000/60000 (27%)]\tLoss: 0.204699\n",
      "Train Epoch: 16 [32000/60000 (53%)]\tLoss: 0.250721\n",
      "Train Epoch: 16 [48000/60000 (80%)]\tLoss: 0.101815\n",
      "\n",
      "Training set: Accuracy: 57623/60000 (96%)\n",
      "Test set: Accuracy: 9591/10000 (96%)\n",
      "\n",
      "Train Epoch: 17 [0/60000 (0%)]\tLoss: 0.068625\n",
      "Train Epoch: 17 [16000/60000 (27%)]\tLoss: 0.196560\n",
      "Train Epoch: 17 [32000/60000 (53%)]\tLoss: 0.242539\n",
      "Train Epoch: 17 [48000/60000 (80%)]\tLoss: 0.097610\n",
      "\n",
      "Training set: Accuracy: 57713/60000 (96%)\n",
      "Test set: Accuracy: 9603/10000 (96%)\n",
      "\n",
      "Train Epoch: 18 [0/60000 (0%)]\tLoss: 0.065011\n",
      "Train Epoch: 18 [16000/60000 (27%)]\tLoss: 0.188070\n",
      "Train Epoch: 18 [32000/60000 (53%)]\tLoss: 0.235127\n",
      "Train Epoch: 18 [48000/60000 (80%)]\tLoss: 0.094583\n",
      "\n",
      "Training set: Accuracy: 57806/60000 (96%)\n",
      "Test set: Accuracy: 9617/10000 (96%)\n",
      "\n",
      "Train Epoch: 19 [0/60000 (0%)]\tLoss: 0.061679\n",
      "Train Epoch: 19 [16000/60000 (27%)]\tLoss: 0.179745\n",
      "Train Epoch: 19 [32000/60000 (53%)]\tLoss: 0.226663\n",
      "Train Epoch: 19 [48000/60000 (80%)]\tLoss: 0.092016\n",
      "\n",
      "Training set: Accuracy: 57882/60000 (96%)\n",
      "Test set: Accuracy: 9633/10000 (96%)\n",
      "\n"
     ]
    }
   ],
   "source": [
    "train_losses_per_epoch, test_losses_per_epoch, train_accuracies, test_accuracies = training(train_loader)"
   ]
  },
  {
   "cell_type": "markdown",
   "id": "5480845d",
   "metadata": {},
   "source": [
    "# 학습 결과 보기 \n",
    "## 1. loss 값 비교"
   ]
  },
  {
   "cell_type": "code",
   "execution_count": 8,
   "id": "24de3674",
   "metadata": {},
   "outputs": [
    {
     "data": {
      "image/png": "[encoded data removed]",
      "text/plain": [
       "<Figure size 432x288 with 1 Axes>"
      ]
     },
     "metadata": {
      "needs_background": "light"
     },
     "output_type": "display_data"
    }
   ],
   "source": [
    "x = np.arange(1,epoches+1)\n",
    "plt.plot(x,train_losses_per_epoch, x,test_losses_per_epoch)\n",
    "plt.legend(('training loss', 'test loss'), loc='upper right', shadow=True)\n",
    "plt.xlabel('Epoches --->')\n",
    "plt.ylabel('Loss --->')\n",
    "plt.xlim([0,21])\n",
    "plt.xticks(np.arange(1, epoches+1, step=1))\n",
    "plt.show()"
   ]
  },
  {
   "cell_type": "markdown",
   "id": "6a5a3e2e",
   "metadata": {},
   "source": [
    "# 2. 정확도 비교"
   ]
  },
  {
   "cell_type": "code",
   "execution_count": 9,
   "id": "6e8ac303",
   "metadata": {},
   "outputs": [
    {
     "data": {
      "image/png": "[encoded data removed]",
      "text/plain": [
       "<Figure size 432x288 with 1 Axes>"
      ]
     },
     "metadata": {
      "needs_background": "light"
     },
     "output_type": "display_data"
    }
   ],
   "source": [
    "x = np.arange(1,epoches+1)\n",
    "plt.plot(x, train_accuracies, x, test_accuracies)\n",
    "plt.legend(('training accuracy', 'test accuracy'), loc='lower right', shadow=True)\n",
    "plt.xlabel('Epoches --->')\n",
    "plt.ylabel('Accuracy --->')\n",
    "plt.xlim([0,21])\n",
    "plt.xticks(np.arange(1, epoches+1, step=1))\n",
    "plt.show()"
   ]
  }
 ],
 "metadata": {
  "kernelspec": {
   "display_name": "Python 3 (ipykernel)",
   "language": "python",
   "name": "python3"
  },
  "language_info": {
   "codemirror_mode": {
    "name": "ipython",
    "version": 3
   },
   "file_extension": ".py",
   "mimetype": "text/x-python",
   "name": "python",
   "nbconvert_exporter": "python",
   "pygments_lexer": "ipython3",
   "version": "3.8.5"
  }
 },
 "nbformat": 4,
 "nbformat_minor": 5
}
