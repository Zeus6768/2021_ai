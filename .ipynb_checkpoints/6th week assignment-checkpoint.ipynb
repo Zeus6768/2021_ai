{
 "cells": [
  {
   "cell_type": "markdown",
   "id": "13ff6e9b",
   "metadata": {},
   "source": [
    "# 2015123056 신재우"
   ]
  },
  {
   "cell_type": "markdown",
   "id": "ef43f255",
   "metadata": {},
   "source": [
    "## (1) 첨부된 파일을 pandas를 이용해 dataframe의 객체로 만드세요."
   ]
  },
  {
   "cell_type": "code",
   "execution_count": 2,
   "id": "cb97ab8d",
   "metadata": {},
   "outputs": [
    {
     "name": "stdout",
     "output_type": "stream",
     "text": [
      "     18.0  8  307.0  130.0   3504.  12.0  70  1 chevrolet chevelle malibu\n",
      "0    15.0  8  350.0  165.0  3693.0  11.5  70  1         buick skylark 320\n",
      "1    18.0  8  318.0  150.0  3436.0  11.0  70  1        plymouth satellite\n",
      "2    16.0  8  304.0  150.0  3433.0  12.0  70  1             amc rebel sst\n",
      "3    17.0  8  302.0  140.0  3449.0  10.5  70  1               ford torino\n",
      "4    15.0  8  429.0  198.0  4341.0  10.0  70  1          ford galaxie 500\n",
      "..    ... ..    ...    ...     ...   ...  .. ..                       ...\n",
      "392  27.0  4  140.0  86.00  2790.0  15.6  82  1           ford mustang gl\n",
      "393  44.0  4   97.0  52.00  2130.0  24.6  82  2                 vw pickup\n",
      "394  32.0  4  135.0  84.00  2295.0  11.6  82  1             dodge rampage\n",
      "395  28.0  4  120.0  79.00  2625.0  18.6  82  1               ford ranger\n",
      "396  31.0  4  119.0  82.00  2720.0  19.4  82  1                chevy s-10\n",
      "\n",
      "[397 rows x 9 columns]\n"
     ]
    }
   ],
   "source": [
    "import pandas as pd\n",
    "\n",
    "dataframe = pd.read_csv('./auto-mpg.csv')\n",
    "\n",
    "print(dataframe)"
   ]
  },
  {
   "cell_type": "markdown",
   "id": "070427f8",
   "metadata": {},
   "source": [
    "## (2) dataframe의 객체를 head() 와 tail()을 이용해 3개씩 프린트"
   ]
  },
  {
   "cell_type": "code",
   "execution_count": 8,
   "id": "77be1156",
   "metadata": {
    "scrolled": true
   },
   "outputs": [
    {
     "name": "stdout",
     "output_type": "stream",
     "text": [
      "    mpg  cylinders  displacement horsepower  weight  asseleration  model year  \\\n",
      "0  15.0          8         350.0      165.0  3693.0          11.5          70   \n",
      "1  18.0          8         318.0      150.0  3436.0          11.0          70   \n",
      "2  16.0          8         304.0      150.0  3433.0          12.0          70   \n",
      "\n",
      "   origin                name  \n",
      "0       1   buick skylark 320  \n",
      "1       1  plymouth satellite  \n",
      "2       1       amc rebel sst  \n"
     ]
    }
   ],
   "source": [
    "print(dataframe.head(3))"
   ]
  },
  {
   "cell_type": "code",
   "execution_count": 9,
   "id": "1e69b393",
   "metadata": {},
   "outputs": [
    {
     "name": "stdout",
     "output_type": "stream",
     "text": [
      "      mpg  cylinders  displacement horsepower  weight  asseleration  \\\n",
      "394  32.0          4         135.0      84.00  2295.0          11.6   \n",
      "395  28.0          4         120.0      79.00  2625.0          18.6   \n",
      "396  31.0          4         119.0      82.00  2720.0          19.4   \n",
      "\n",
      "     model year  origin           name  \n",
      "394          82       1  dodge rampage  \n",
      "395          82       1    ford ranger  \n",
      "396          82       1     chevy s-10  \n"
     ]
    }
   ],
   "source": [
    "print(dataframe.tail(3))"
   ]
  },
  {
   "cell_type": "markdown",
   "id": "5607b6a8",
   "metadata": {},
   "source": [
    "## (3) dataframe에 column 이름을 아래와 같이 추가 <br>\n",
    "['mpg', 'cylinders', 'displacement', 'horsepower', 'weight', 'asseleration', 'model year', 'origin', 'name'] "
   ]
  },
  {
   "cell_type": "code",
   "execution_count": 7,
   "id": "e43b5077",
   "metadata": {},
   "outputs": [
    {
     "name": "stdout",
     "output_type": "stream",
     "text": [
      "      mpg  cylinders  displacement horsepower  weight  asseleration  \\\n",
      "0    15.0          8         350.0      165.0  3693.0          11.5   \n",
      "1    18.0          8         318.0      150.0  3436.0          11.0   \n",
      "2    16.0          8         304.0      150.0  3433.0          12.0   \n",
      "3    17.0          8         302.0      140.0  3449.0          10.5   \n",
      "4    15.0          8         429.0      198.0  4341.0          10.0   \n",
      "..    ...        ...           ...        ...     ...           ...   \n",
      "392  27.0          4         140.0      86.00  2790.0          15.6   \n",
      "393  44.0          4          97.0      52.00  2130.0          24.6   \n",
      "394  32.0          4         135.0      84.00  2295.0          11.6   \n",
      "395  28.0          4         120.0      79.00  2625.0          18.6   \n",
      "396  31.0          4         119.0      82.00  2720.0          19.4   \n",
      "\n",
      "     model year  origin                name  \n",
      "0            70       1   buick skylark 320  \n",
      "1            70       1  plymouth satellite  \n",
      "2            70       1       amc rebel sst  \n",
      "3            70       1         ford torino  \n",
      "4            70       1    ford galaxie 500  \n",
      "..          ...     ...                 ...  \n",
      "392          82       1     ford mustang gl  \n",
      "393          82       2           vw pickup  \n",
      "394          82       1       dodge rampage  \n",
      "395          82       1         ford ranger  \n",
      "396          82       1          chevy s-10  \n",
      "\n",
      "[397 rows x 9 columns]\n"
     ]
    }
   ],
   "source": [
    "dataframe.columns = ['mpg', 'cylinders', 'displacement', 'horsepower', 'weight', 'asseleration', 'model year', 'origin', 'name']\n",
    "print(dataframe)"
   ]
  },
  {
   "cell_type": "markdown",
   "id": "a195eba0",
   "metadata": {},
   "source": [
    "## (4) 마지막으로 dataframe을 name 열에 따라 정렬(오름차순)"
   ]
  },
  {
   "cell_type": "code",
   "execution_count": 13,
   "id": "06a60f58",
   "metadata": {},
   "outputs": [
    {
     "data": {
      "text/html": [
       "<div>\n",
       "<style scoped>\n",
       "    .dataframe tbody tr th:only-of-type {\n",
       "        vertical-align: middle;\n",
       "    }\n",
       "\n",
       "    .dataframe tbody tr th {\n",
       "        vertical-align: top;\n",
       "    }\n",
       "\n",
       "    .dataframe thead th {\n",
       "        text-align: right;\n",
       "    }\n",
       "</style>\n",
       "<table border=\"1\" class=\"dataframe\">\n",
       "  <thead>\n",
       "    <tr style=\"text-align: right;\">\n",
       "      <th></th>\n",
       "      <th>mpg</th>\n",
       "      <th>cylinders</th>\n",
       "      <th>displacement</th>\n",
       "      <th>horsepower</th>\n",
       "      <th>weight</th>\n",
       "      <th>asseleration</th>\n",
       "      <th>model year</th>\n",
       "      <th>origin</th>\n",
       "      <th>name</th>\n",
       "    </tr>\n",
       "  </thead>\n",
       "  <tbody>\n",
       "    <tr>\n",
       "      <th>95</th>\n",
       "      <td>13.0</td>\n",
       "      <td>8</td>\n",
       "      <td>360.0</td>\n",
       "      <td>175.0</td>\n",
       "      <td>3821.0</td>\n",
       "      <td>11.0</td>\n",
       "      <td>73</td>\n",
       "      <td>1</td>\n",
       "      <td>amc ambassador brougham</td>\n",
       "    </tr>\n",
       "    <tr>\n",
       "      <th>8</th>\n",
       "      <td>15.0</td>\n",
       "      <td>8</td>\n",
       "      <td>390.0</td>\n",
       "      <td>190.0</td>\n",
       "      <td>3850.0</td>\n",
       "      <td>8.5</td>\n",
       "      <td>70</td>\n",
       "      <td>1</td>\n",
       "      <td>amc ambassador dpl</td>\n",
       "    </tr>\n",
       "    <tr>\n",
       "      <th>65</th>\n",
       "      <td>17.0</td>\n",
       "      <td>8</td>\n",
       "      <td>304.0</td>\n",
       "      <td>150.0</td>\n",
       "      <td>3672.0</td>\n",
       "      <td>11.5</td>\n",
       "      <td>72</td>\n",
       "      <td>1</td>\n",
       "      <td>amc ambassador sst</td>\n",
       "    </tr>\n",
       "    <tr>\n",
       "      <th>256</th>\n",
       "      <td>19.4</td>\n",
       "      <td>6</td>\n",
       "      <td>232.0</td>\n",
       "      <td>90.00</td>\n",
       "      <td>3210.0</td>\n",
       "      <td>17.2</td>\n",
       "      <td>78</td>\n",
       "      <td>1</td>\n",
       "      <td>amc concord</td>\n",
       "    </tr>\n",
       "    <tr>\n",
       "      <th>314</th>\n",
       "      <td>24.3</td>\n",
       "      <td>4</td>\n",
       "      <td>151.0</td>\n",
       "      <td>90.00</td>\n",
       "      <td>3003.0</td>\n",
       "      <td>20.1</td>\n",
       "      <td>80</td>\n",
       "      <td>1</td>\n",
       "      <td>amc concord</td>\n",
       "    </tr>\n",
       "  </tbody>\n",
       "</table>\n",
       "</div>"
      ],
      "text/plain": [
       "      mpg  cylinders  displacement horsepower  weight  asseleration  \\\n",
       "95   13.0          8         360.0      175.0  3821.0          11.0   \n",
       "8    15.0          8         390.0      190.0  3850.0           8.5   \n",
       "65   17.0          8         304.0      150.0  3672.0          11.5   \n",
       "256  19.4          6         232.0      90.00  3210.0          17.2   \n",
       "314  24.3          4         151.0      90.00  3003.0          20.1   \n",
       "\n",
       "     model year  origin                     name  \n",
       "95           73       1  amc ambassador brougham  \n",
       "8            70       1       amc ambassador dpl  \n",
       "65           72       1       amc ambassador sst  \n",
       "256          78       1              amc concord  \n",
       "314          80       1              amc concord  "
      ]
     },
     "execution_count": 13,
     "metadata": {},
     "output_type": "execute_result"
    }
   ],
   "source": [
    "dataframe.sort_values(by=\"name\").head()"
   ]
  }
 ],
 "metadata": {
  "kernelspec": {
   "display_name": "Python 3 (ipykernel)",
   "language": "python",
   "name": "python3"
  },
  "language_info": {
   "codemirror_mode": {
    "name": "ipython",
    "version": 3
   },
   "file_extension": ".py",
   "mimetype": "text/x-python",
   "name": "python",
   "nbconvert_exporter": "python",
   "pygments_lexer": "ipython3",
   "version": "3.7.11"
  }
 },
 "nbformat": 4,
 "nbformat_minor": 5
}
