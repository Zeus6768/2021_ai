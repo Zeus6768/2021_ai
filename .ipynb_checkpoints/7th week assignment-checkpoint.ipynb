{
 "cells": [
  {
   "cell_type": "code",
   "execution_count": 2,
   "id": "2251536e",
   "metadata": {},
   "outputs": [],
   "source": [
    "import numpy as np"
   ]
  },
  {
   "cell_type": "markdown",
   "id": "9c7d480c",
   "metadata": {},
   "source": [
    "## (1) numpy 로 임의의 scalar 1개를 만들고 변수 a에 저장하세요."
   ]
  },
  {
   "cell_type": "code",
   "execution_count": 7,
   "id": "cb689c3e",
   "metadata": {},
   "outputs": [
    {
     "name": "stdout",
     "output_type": "stream",
     "text": [
      "3\n"
     ]
    }
   ],
   "source": [
    "a = np.array(3)\n",
    "print(a)"
   ]
  },
  {
   "cell_type": "markdown",
   "id": "0e5dd0d2",
   "metadata": {},
   "source": [
    "##  (2) numpy 로 임의의 vector 1개를 만들고 변수 b에 저장하세요."
   ]
  },
  {
   "cell_type": "code",
   "execution_count": 8,
   "id": "6475658e",
   "metadata": {},
   "outputs": [
    {
     "name": "stdout",
     "output_type": "stream",
     "text": [
      "[1 2]\n"
     ]
    }
   ],
   "source": [
    "b = np.array([1, 2])\n",
    "print(b)"
   ]
  },
  {
   "cell_type": "markdown",
   "id": "bcd38158",
   "metadata": {},
   "source": [
    "##   (3) numpy 로 임의의 matrix 2개를 만들고 변수 c1, c2에 저장하세요"
   ]
  },
  {
   "cell_type": "code",
   "execution_count": 9,
   "id": "3a0143ba",
   "metadata": {},
   "outputs": [
    {
     "name": "stdout",
     "output_type": "stream",
     "text": [
      "[[1 2]\n",
      " [3 4]]\n",
      "\n",
      "[[-2 -1]\n",
      " [ 0  1]]\n"
     ]
    }
   ],
   "source": [
    "c1 = np.arange(1, 5).reshape(2, 2)\n",
    "c2 = np.arange(-2, 2).reshape(2, 2)\n",
    "print(f\"{c1}\\n\\n{c2}\")"
   ]
  },
  {
   "cell_type": "markdown",
   "id": "d4921299",
   "metadata": {},
   "source": [
    "##  (4) numpy 로 임의의 Tensor 2개를 만들고 변수 d1, d2에 저장하세요."
   ]
  },
  {
   "cell_type": "code",
   "execution_count": 27,
   "id": "386ec8f4",
   "metadata": {},
   "outputs": [
    {
     "name": "stdout",
     "output_type": "stream",
     "text": [
      "d1\n",
      "[[[ 1  2  3]\n",
      "  [ 4  5  6]]\n",
      "\n",
      " [[ 7  8  9]\n",
      "  [10 11 12]]]\n",
      "\n",
      "d2\n",
      "[[[-5 -4]\n",
      "  [-3 -2]\n",
      "  [-1  0]]\n",
      "\n",
      " [[ 1  2]\n",
      "  [ 3  4]\n",
      "  [ 5  6]]]\n"
     ]
    }
   ],
   "source": [
    "d1 = np.arange(1, 13).reshape(2, 2, 3)\n",
    "d2 = np.arange(-5, 7).reshape(2, 3, 2)\n",
    "print(f\"d1\\n{d1}\\n\\nd2\\n{d2}\")"
   ]
  },
  {
   "cell_type": "markdown",
   "id": "8991cdab",
   "metadata": {},
   "source": [
    "##  (5) a와 b를 곱하는 방법 생각해보시고 곱셈을 해보세요"
   ]
  },
  {
   "cell_type": "code",
   "execution_count": 70,
   "id": "bfab34d9",
   "metadata": {},
   "outputs": [
    {
     "name": "stdout",
     "output_type": "stream",
     "text": [
      "a * b=[3 6]\n",
      "a * b=[3 6]\n"
     ]
    }
   ],
   "source": [
    "print(f\"a * b={a * b}\")\n",
    "print(f\"a * b={np.dot(a, b)}\")"
   ]
  },
  {
   "cell_type": "markdown",
   "id": "32add5a3",
   "metadata": {},
   "source": [
    "##  (6) b와 c1 또는 c2 를 곱하는 방법을 생각해보시고 그 결과가 vector로 저장하는 곱셈을 해보세요"
   ]
  },
  {
   "cell_type": "code",
   "execution_count": 32,
   "id": "ef01c5e6",
   "metadata": {},
   "outputs": [
    {
     "name": "stdout",
     "output_type": "stream",
     "text": [
      "b * c1\n",
      "[ 7 10]\n",
      "\n",
      "b * c2\n",
      "[-2  1]\n"
     ]
    }
   ],
   "source": [
    "print(f\"b * c1\\n{np.dot(b, c1)}\\n\")\n",
    "\n",
    "print(f\"b * c2\\n{np.dot(b, c2)}\")"
   ]
  },
  {
   "cell_type": "markdown",
   "id": "8293dfeb",
   "metadata": {},
   "source": [
    "##  (7)  c1와 c2에 대한 곱셈을 생각해보세요. 그 결과가 matrix로 나오는 곱셈을 해보세요"
   ]
  },
  {
   "cell_type": "code",
   "execution_count": 33,
   "id": "c61b9e88",
   "metadata": {},
   "outputs": [
    {
     "name": "stdout",
     "output_type": "stream",
     "text": [
      "c1 * c2\n",
      "[[-2  1]\n",
      " [-6  1]]\n"
     ]
    }
   ],
   "source": [
    "print(f\"c1 * c2\\n{np.dot(c1, c2)}\")"
   ]
  },
  {
   "cell_type": "markdown",
   "id": "af19a664",
   "metadata": {},
   "source": [
    "##  (8) c1과 d1에 대한 곱셈을 생각해보세요. 그 결과가 scalar로 나오는 곱셈을 해보세요"
   ]
  },
  {
   "cell_type": "code",
   "execution_count": 34,
   "id": "0f7f5f1f",
   "metadata": {},
   "outputs": [
    {
     "name": "stdout",
     "output_type": "stream",
     "text": [
      "c1 * d1\n",
      "231\n"
     ]
    }
   ],
   "source": [
    "print(f\"c1 * d1\\n{np.einsum('kl, lki -> ', c1, d1)}\")"
   ]
  },
  {
   "cell_type": "markdown",
   "id": "38c7210b",
   "metadata": {},
   "source": [
    "##  (9) c1과 d1에 대한 곱셈을 생각해보세요. 그 결과가 vector로 나오는 곱셈을 해보세요"
   ]
  },
  {
   "cell_type": "code",
   "execution_count": 35,
   "id": "6105d3ec",
   "metadata": {},
   "outputs": [
    {
     "name": "stdout",
     "output_type": "stream",
     "text": [
      "c1 * d1\n",
      "[67 77 87]\n"
     ]
    }
   ],
   "source": [
    "print(f\"c1 * d1\\n{np.einsum('kl, lki -> i', c1, d1)}\")"
   ]
  },
  {
   "cell_type": "markdown",
   "id": "d9c83665",
   "metadata": {},
   "source": [
    "##  (10) c2과 d2에 대한 곱셈을 생각해보세요. 그 결과가 matrix로 나오는 곱셈을 해보세요"
   ]
  },
  {
   "cell_type": "code",
   "execution_count": 44,
   "id": "55c72f50",
   "metadata": {},
   "outputs": [
    {
     "name": "stdout",
     "output_type": "stream",
     "text": [
      "c2 * d2\n",
      "[[10  8]\n",
      " [ 6  4]\n",
      " [ 2  0]]\n"
     ]
    }
   ],
   "source": [
    "print(f\"c2 * d2\\n{np.einsum('ij, jkl -> kl', c2, d2)}\")"
   ]
  },
  {
   "cell_type": "markdown",
   "id": "8b10ed5a",
   "metadata": {},
   "source": [
    "##  (11) d1과 d2에 대한 곱셈을 생각해보세요. 그 결과가 matrix로 나오는 곱셈을 해보세요"
   ]
  },
  {
   "cell_type": "code",
   "execution_count": 63,
   "id": "084ee06f",
   "metadata": {},
   "outputs": [
    {
     "data": {
      "text/plain": [
       "array([[-180,   60,  300],\n",
       "       [-288,   96,  480]])"
      ]
     },
     "execution_count": 63,
     "metadata": {},
     "output_type": "execute_result"
    }
   ],
   "source": [
    "np.einsum('hij, klm -> il', d1, d2)"
   ]
  },
  {
   "cell_type": "markdown",
   "id": "2baae5c5",
   "metadata": {},
   "source": [
    "##  (12) d1과 d2에 대한 곱셈을 생각해보세요. 그 결과가 tensor로 나오는 곱셈을 해보세요"
   ]
  },
  {
   "cell_type": "code",
   "execution_count": 61,
   "id": "f6c01ddc",
   "metadata": {},
   "outputs": [
    {
     "name": "stdout",
     "output_type": "stream",
     "text": [
      "d1 * d2\n",
      "[[[  0  36]\n",
      "  [  0  90]]\n",
      "\n",
      " [[  0 144]\n",
      "  [  0 198]]]\n"
     ]
    }
   ],
   "source": [
    "print(f\"d1 * d2\\n{np.einsum('hij, klm -> him', d1, d2)}\")"
   ]
  },
  {
   "cell_type": "markdown",
   "id": "841c1e05",
   "metadata": {},
   "source": [
    "##  (13) c1,c2의 L1 Norm을 계산해세요"
   ]
  },
  {
   "cell_type": "code",
   "execution_count": 71,
   "id": "0342ce46",
   "metadata": {},
   "outputs": [
    {
     "name": "stdout",
     "output_type": "stream",
     "text": [
      "c1 Norm : 10\n"
     ]
    }
   ],
   "source": [
    "print(f\"c1 Norm : {np.abs(c1).sum()}\")\n",
    "print(f\"c1 Norm : {np.abs(c2).sum()}\")"
   ]
  },
  {
   "cell_type": "markdown",
   "id": "4312cf84",
   "metadata": {},
   "source": [
    "##  (14)  c1,c2의 L2 Norm을 계산해세요"
   ]
  },
  {
   "cell_type": "code",
   "execution_count": null,
   "id": "b5f3589f",
   "metadata": {},
   "outputs": [],
   "source": []
  },
  {
   "cell_type": "markdown",
   "id": "fc8b5614",
   "metadata": {},
   "source": [
    "## (15)  c1,c2의 L5 Norm을 계산해세요"
   ]
  },
  {
   "cell_type": "code",
   "execution_count": null,
   "id": "54e49a96",
   "metadata": {},
   "outputs": [],
   "source": []
  }
 ],
 "metadata": {
  "kernelspec": {
   "display_name": "Python 3 (ipykernel)",
   "language": "python",
   "name": "python3"
  },
  "language_info": {
   "codemirror_mode": {
    "name": "ipython",
    "version": 3
   },
   "file_extension": ".py",
   "mimetype": "text/x-python",
   "name": "python",
   "nbconvert_exporter": "python",
   "pygments_lexer": "ipython3",
   "version": "3.7.11"
  }
 },
 "nbformat": 4,
 "nbformat_minor": 5
}
