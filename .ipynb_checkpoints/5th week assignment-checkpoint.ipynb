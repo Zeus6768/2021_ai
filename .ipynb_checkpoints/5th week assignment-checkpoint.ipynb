{
 "cells": [
  {
   "cell_type": "markdown",
   "id": "c0c4cc96",
   "metadata": {},
   "source": [
    "# 신재우 2015123056 / 최원주, 이다솜"
   ]
  },
  {
   "cell_type": "markdown",
   "id": "8041bfc8",
   "metadata": {},
   "source": [
    "---\n",
    "# Numpy Array와 List의 비교"
   ]
  },
  {
   "cell_type": "markdown",
   "id": "62d1aa18",
   "metadata": {},
   "source": [
    "## np.argmax"
   ]
  },
  {
   "cell_type": "code",
   "execution_count": 1,
   "id": "00733916",
   "metadata": {},
   "outputs": [
    {
     "name": "stdout",
     "output_type": "stream",
     "text": [
      "3\n",
      "0\n"
     ]
    }
   ],
   "source": [
    "import numpy as np\n",
    "\n",
    "ar1 = np.array([1, 2, 3, 4])  # [1, 2, 3, 4]\n",
    "ar2 = np.arange(4, 0, -1)     # [4, 3, 2, 1]\n",
    "\n",
    "result = np.argmax(ar1)\n",
    "print(result)\n",
    "\n",
    "result = np.argmax(ar2)\n",
    "print(result)"
   ]
  },
  {
   "cell_type": "markdown",
   "id": "8f55698b",
   "metadata": {},
   "source": [
    "위 코드 결과와 같이 `argmax()` 함수는 array에서 가장 큰 값의 인덱스를 반환합니다. "
   ]
  },
  {
   "cell_type": "markdown",
   "id": "a9379647",
   "metadata": {},
   "source": [
    "## (1) Numpy Array"
   ]
  },
  {
   "cell_type": "markdown",
   "id": "aa0fdc0c",
   "metadata": {},
   "source": [
    "2차원의 ndarray를 만들고, `argmax()` 함수에 axis 값을 바꿔가며 계산하면 다음과 같습니다. "
   ]
  },
  {
   "cell_type": "code",
   "execution_count": 2,
   "id": "38ffada8",
   "metadata": {},
   "outputs": [
    {
     "name": "stdout",
     "output_type": "stream",
     "text": [
      "0\n",
      "[0 2 0]\n",
      "[0 0 0]\n"
     ]
    }
   ],
   "source": [
    "array = np.array([[9, 4, 5], [9, 3, 1], [5, 5, 2]])\n",
    "result1 = np.argmax(array)\n",
    "result2 = np.argmax(array, axis=0)\n",
    "result3 = np.argmax(array, axis=1)\n",
    "print(result1)\n",
    "print(result2)\n",
    "print(result3)"
   ]
  },
  {
   "cell_type": "markdown",
   "id": "24b0f50d",
   "metadata": {},
   "source": [
    "## (2) Python List"
   ]
  },
  {
   "cell_type": "markdown",
   "id": "7c811df5",
   "metadata": {},
   "source": [
    "numpy 라이브러리를 이용하지 않고 python에서 numpy의 `argmax()`와 동일한 함수를 만들면 다음과 같습니다. \n",
    "<br>\n",
    "입력값이 2차원 리스트임을 전제로 작성한 함수이므로 2차원 리스트를 입력할 때만 정상적으로 작동합니다.\n",
    "<br>\n",
    "또한 axis가 0이 입력되는 경우, 1이 입력되는 경우로만 분기했으며 잘못 입력할 예외에 대해서는 크게 신경쓰지 않았습니다."
   ]
  },
  {
   "cell_type": "code",
   "execution_count": 3,
   "id": "6acb3558",
   "metadata": {},
   "outputs": [],
   "source": [
    "def argmax(array, axis):\n",
    "    col = len(array[0])\n",
    "    result_array = []\n",
    "    if axis == 0:\n",
    "        for i in range(col):\n",
    "            temp = []\n",
    "            for a in array:\n",
    "                temp.append(a[i])\n",
    "            result_array.append(temp.index(max(temp)))\n",
    "        return result_array\n",
    "    elif axis == 1:\n",
    "        for a in array:\n",
    "            result_array.append(a.index(max(a)))\n",
    "        return result_array\n",
    "    else:\n",
    "        return \"error\""
   ]
  },
  {
   "cell_type": "code",
   "execution_count": 4,
   "id": "2d779dad",
   "metadata": {},
   "outputs": [
    {
     "name": "stdout",
     "output_type": "stream",
     "text": [
      "[1, 1, 0]\n",
      "[2, 1]\n"
     ]
    }
   ],
   "source": [
    "array = [[5, 2, 9], [7, 9, 2]]\n",
    "result2 = argmax(array, axis=0)\n",
    "result3 = argmax(array, axis=1)\n",
    "print(result2)\n",
    "print(result3)"
   ]
  },
  {
   "cell_type": "markdown",
   "id": "6bbb4203",
   "metadata": {},
   "source": [
    "```python\n",
    "# code\n",
    "리스트.index(max(리스트))\n",
    "\n",
    "# example\n",
    ">>> list1 = [1, 2, 3]\n",
    ">>> list1.index(max(list1))    # 3의 인덱스인 2를 반환합니다.\n",
    "2    \n",
    "```"
   ]
  },
  {
   "cell_type": "markdown",
   "id": "34ef14eb",
   "metadata": {},
   "source": [
    "위 코드가 함수의 핵심입니다. 리스트 최댓값의 인덱스를 반환합니다. "
   ]
  },
  {
   "cell_type": "markdown",
   "id": "3cc229c4",
   "metadata": {},
   "source": [
    "또한 두 번째 입력값으로 axis를 입력받는 방식을 구체화하지 않았습니다. \n",
    "<br><br>\n",
    "함수를 위에서부터 차례대로 살펴보겠습니다. \n",
    "<br>\n",
    "\n",
    "```python\n",
    "def argmax(array, axis):\n",
    "    col = len(array[0])\n",
    "    result_array = []\n",
    "```\n",
    "\n",
    "함수를 사용할 때 배열과 axis를 입력받습니다. <br>\n",
    "그리고 2차원 리스트를 행렬처럼 생각할 때 열에 해당하는 축의 길이를 첫번째 원소의 길이를 이용해 미리 입력했습니다. <br>\n",
    "예를 들어 위에서 작성했던 `array` 리스트를 입력값으로 하는 함수의 `col` 값은 3이 됩니다. <br>\n",
    "이는 뒤에서 반복문 사용을 편리하게 하기 위함입니다. \n",
    "<br><br>\n",
    "\n",
    "```python\n",
    "if axis == 0:\n",
    "    for i in range(col):\n",
    "        temp = []\n",
    "        for a in array:\n",
    "            temp.append(a[i])\n",
    "        result_array.append(temp.index(max(temp)))\n",
    "    return result_array\n",
    "```\n",
    "\n",
    "axis가 0인 경우, 각 행의 같은 인덱스를 가진 값들을 비교하며 계산합니다. \n",
    "모든 행을 순회하며 같은 인덱스의 값을 임시 리스트 temp에 모은 뒤, temp의 최대값의 인덱스를 결과 리스트에 저장합니다. \n",
    "해당 명령을 열의 개수만큼 반복하면 우리가 원하는 결과를 얻을 수 있습니다. "
   ]
  }
 ],
 "metadata": {
  "kernelspec": {
   "display_name": "Python 3 (ipykernel)",
   "language": "python",
   "name": "python3"
  },
  "language_info": {
   "codemirror_mode": {
    "name": "ipython",
    "version": 3
   },
   "file_extension": ".py",
   "mimetype": "text/x-python",
   "name": "python",
   "nbconvert_exporter": "python",
   "pygments_lexer": "ipython3",
   "version": "3.7.11"
  }
 },
 "nbformat": 4,
 "nbformat_minor": 5
}
