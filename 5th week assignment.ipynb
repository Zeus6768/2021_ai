{
 "cells": [
  {
   "cell_type": "markdown",
   "id": "c0c4cc96",
   "metadata": {},
   "source": [
    "# 신재우 2015123056 / 최원주, 이다솜"
   ]
  },
  {
   "cell_type": "markdown",
   "id": "8041bfc8",
   "metadata": {},
   "source": [
    "---\n",
    "# Numpy Array와 Python List의 비교"
   ]
  },
  {
   "cell_type": "markdown",
   "id": "62d1aa18",
   "metadata": {},
   "source": [
    "## np.argmax"
   ]
  },
  {
   "cell_type": "code",
   "execution_count": 1,
   "id": "00733916",
   "metadata": {},
   "outputs": [
    {
     "name": "stdout",
     "output_type": "stream",
     "text": [
      "3\n",
      "0\n"
     ]
    }
   ],
   "source": [
    "import numpy as np\n",
    "\n",
    "ar1 = np.array([1, 2, 3, 4])  # [1, 2, 3, 4]\n",
    "ar2 = np.arange(4, 0, -1)     # [4, 3, 2, 1]\n",
    "\n",
    "result = np.argmax(ar1)\n",
    "print(result)\n",
    "\n",
    "result = np.argmax(ar2)\n",
    "print(result)"
   ]
  },
  {
   "cell_type": "markdown",
   "id": "8f55698b",
   "metadata": {},
   "source": [
    "위 코드 결과와 같이 `argmax()` 함수는 array에서 가장 큰 값의 인덱스를 반환합니다. "
   ]
  },
  {
   "cell_type": "markdown",
   "id": "a9379647",
   "metadata": {},
   "source": [
    "## (1) Numpy Array"
   ]
  },
  {
   "cell_type": "markdown",
   "id": "aa0fdc0c",
   "metadata": {},
   "source": [
    "2차원의 ndarray를 만들고, `argmax()` 함수에 axis 값을 바꿔가며 계산하면 다음과 같습니다. "
   ]
  },
  {
   "cell_type": "code",
   "execution_count": 2,
   "id": "38ffada8",
   "metadata": {},
   "outputs": [
    {
     "name": "stdout",
     "output_type": "stream",
     "text": [
      "[0 2 0]\n",
      "[2 1 1]\n"
     ]
    }
   ],
   "source": [
    "array = np.array([[5, 6, 8], [5, 7, 1], [2, 8, 4]])\n",
    "result2 = np.argmax(array, axis=0)\n",
    "result3 = np.argmax(array, axis=1)\n",
    "print(result2)\n",
    "print(result3)"
   ]
  },
  {
   "cell_type": "markdown",
   "id": "79cfeb3b",
   "metadata": {},
   "source": [
    "2차원 array는 `axis=0`일 때 행 방향으로 같은 인덱스의 값끼리 비교합니다. <br>\n",
    "즉, 각각의 행 `[5, 5, 2], [6, 7, 8], [8, 1, 4]`에서 최대값의 인덱스인 `[0, 2, 0]`을 반환합니다. <br>\n",
    "`axis=1`일 때는 `[5, 6, 8], [5, 7, 1], [2, 8, 4]`에서 열 방향으로 비교해서, `[2, 1, 1]`을 반환합니다.\n",
    "<br> <br>"
   ]
  },
  {
   "cell_type": "markdown",
   "id": "cc1375a7",
   "metadata": {},
   "source": [
    "## (2) Python List"
   ]
  },
  {
   "cell_type": "markdown",
   "id": "7c811df5",
   "metadata": {},
   "source": [
    "numpy 라이브러리를 이용하지 않고 python에서 numpy의 `argmax()`와 동일한 함수를 만들면 다음과 같습니다. <br>\n",
    "<br>\n",
    "입력값이 2차원 리스트임을 전제로 작성한 함수이므로 2차원 리스트를 입력할 때만 정상적으로 작동합니다.<br>\n",
    "<br>\n",
    "또한 axis를 입력하는 방법을 구체화하지 않았고 axis에 0이 입력되는 경우, 1이 입력되는 경우로만 분기했으며 입력값이 잘못된 예외에 대해서는 크게 신경쓰지 않았습니다.<br>\n",
    "<br>"
   ]
  },
  {
   "cell_type": "code",
   "execution_count": 3,
   "id": "6acb3558",
   "metadata": {},
   "outputs": [],
   "source": [
    "def argmax(array, axis):\n",
    "    col = len(array[0])\n",
    "    result_array = []\n",
    "    if axis == 0:\n",
    "        for i in range(col):\n",
    "            temp = []\n",
    "            for a in array:\n",
    "                temp.append(a[i])\n",
    "            result_array.append(temp.index(max(temp)))\n",
    "        return result_array\n",
    "    elif axis == 1:\n",
    "        for a in array:\n",
    "            result_array.append(a.index(max(a)))\n",
    "        return result_array\n",
    "    else:\n",
    "        return \"error\""
   ]
  },
  {
   "cell_type": "code",
   "execution_count": 4,
   "id": "2d779dad",
   "metadata": {},
   "outputs": [
    {
     "name": "stdout",
     "output_type": "stream",
     "text": [
      "[0, 2, 0]\n",
      "[2, 1, 1]\n"
     ]
    }
   ],
   "source": [
    "array = [[5, 6, 8], [5, 7, 1], [2, 8, 4]]\n",
    "result2 = argmax(array, axis=0)\n",
    "result3 = argmax(array, axis=1)\n",
    "print(result2)\n",
    "print(result3)"
   ]
  },
  {
   "cell_type": "markdown",
   "id": "6bbb4203",
   "metadata": {},
   "source": [
    "```python\n",
    "# code\n",
    "리스트.index(max(리스트))\n",
    "\n",
    "# example\n",
    ">>> list1 = [1, 2, 3]\n",
    ">>> list1.index(max(list1))    \n",
    "2    # 최대값 3의 인덱스인 2를 반환합니다.\n",
    "```"
   ]
  },
  {
   "cell_type": "markdown",
   "id": "3cc229c4",
   "metadata": {},
   "source": [
    "위 코드가 함수의 핵심입니다. 리스트 최댓값의 인덱스를 반환합니다. \n",
    "<br><br>\n",
    "함수를 위에서부터 차례대로 살펴보겠습니다. \n",
    "<br><br>\n",
    "\n",
    "```python\n",
    "def argmax(array, axis):\n",
    "    col = len(array[0])\n",
    "    result_array = []\n",
    "```\n",
    "\n",
    "<br>\n",
    "함수를 사용할 때 배열과 axis를 입력받습니다. <br>\n",
    "그리고 2차원 리스트를 행렬처럼 생각할 때 열에 해당하는 축의 길이를 첫번째 원소(행)의 길이(열)를 이용해 미리 입력했습니다. <br>\n",
    "예를 들어 위에서 작성했던 `array` 리스트를 입력값으로 하는 함수의 `col` 값은 3이 됩니다. <br>\n",
    "이는 뒤에서 반복문 사용을 편리하게 하기 위함입니다. <br>\n",
    "<br>\n",
    "\n",
    "```python\n",
    "if axis == 0:\n",
    "    for i in range(col):\n",
    "        temp = []\n",
    "        for a in array:\n",
    "            temp.append(a[i])\n",
    "        result_array.append(temp.index(max(temp)))\n",
    "    return result_array\n",
    "```\n",
    "\n",
    "<br>\n",
    "axis가 0인 경우, 각 행의 같은 인덱스를 가진 값들을 비교하며 계산합니다. <br>\n",
    "모든 행을 순회하며 같은 인덱스의 값을 임시 리스트 temp에 모은 뒤, temp의 최대값의 인덱스를 결과 리스트에 저장합니다. <br>\n",
    "해당 명령을 열의 개수만큼 반복하면 우리가 원하는 결과를 얻을 수 있습니다. <br>\n",
    "<br>\n",
    "\n",
    "```python\n",
    "elif axis == 1:\n",
    "    for a in array:\n",
    "        result_array.append(a.index(max(a)))\n",
    "    return result_array\n",
    "```\n",
    "\n",
    "<br>\n",
    "axis가 1인 경우, 모든 행을 순회하며 각 행의 최대값의 인덱스를 결과 리스트에 저장하여 반환합니다. <br>\n",
    "<br>\n",
    "\n",
    "```python\n",
    "else:\n",
    "    return \"error\"\n",
    "```\n",
    "\n",
    "<br>\n",
    "axis에 0이나 1이 아닌 값을 입력할 경우 오류 메시지를 반환합니다. <br>\n",
    "<br>"
   ]
  },
  {
   "cell_type": "markdown",
   "id": "929c7376",
   "metadata": {},
   "source": [
    "## 실행 시간 비교 (%timeit)"
   ]
  },
  {
   "cell_type": "markdown",
   "id": "4dac6e68",
   "metadata": {},
   "source": [
    " numpy의 함수와 직접 만든 함수의 작동 시간을 비교합니다. \n",
    "\n",
    "우선 임의의 2차원 배열과 리스트를 다음과 같이 만들었습니다. "
   ]
  },
  {
   "cell_type": "code",
   "execution_count": 5,
   "id": "fa216f5c",
   "metadata": {
    "scrolled": true
   },
   "outputs": [
    {
     "name": "stdout",
     "output_type": "stream",
     "text": [
      "[[5, 7, 5, 8], [6, 8, 3, 8], [7, 7, 7, 2], [8, 6, 6, 7]]\n",
      "[[5 7 5 8]\n",
      " [6 8 3 8]\n",
      " [7 7 7 2]\n",
      " [8 6 6 7]]\n"
     ]
    }
   ],
   "source": [
    "import random as r\n",
    "list1 = [[r.randrange(1, 10) for i in range(4)] for j in range(r.randrange(2, 6))]\n",
    "array1 = np.array(list1)\n",
    "print(list1)\n",
    "print(array1)"
   ]
  },
  {
   "cell_type": "markdown",
   "id": "116d32fb",
   "metadata": {},
   "source": [
    "<br>\n",
    "먼저 `axis=0`일 때의 작동 시간 비교입니다. "
   ]
  },
  {
   "cell_type": "code",
   "execution_count": 6,
   "id": "a5a727b6",
   "metadata": {},
   "outputs": [
    {
     "name": "stdout",
     "output_type": "stream",
     "text": [
      "10.6 µs ± 1.72 µs per loop (mean ± std. dev. of 7 runs, 100000 loops each)\n"
     ]
    }
   ],
   "source": [
    "%timeit argmax(list1, axis=0)"
   ]
  },
  {
   "cell_type": "code",
   "execution_count": 7,
   "id": "7ad9e4f6",
   "metadata": {},
   "outputs": [
    {
     "name": "stdout",
     "output_type": "stream",
     "text": [
      "6.32 µs ± 343 ns per loop (mean ± std. dev. of 7 runs, 100000 loops each)\n"
     ]
    }
   ],
   "source": [
    "%timeit np.argmax(array1, axis=0)"
   ]
  },
  {
   "cell_type": "markdown",
   "id": "b1b6effb",
   "metadata": {},
   "source": [
    "<br>\n",
    "`axis=1`일 때의 작동 시간 비교입니다."
   ]
  },
  {
   "cell_type": "code",
   "execution_count": 8,
   "id": "097e1fb2",
   "metadata": {},
   "outputs": [
    {
     "name": "stdout",
     "output_type": "stream",
     "text": [
      "5.07 µs ± 862 ns per loop (mean ± std. dev. of 7 runs, 100000 loops each)\n"
     ]
    }
   ],
   "source": [
    "%timeit argmax(list1, axis=1)"
   ]
  },
  {
   "cell_type": "code",
   "execution_count": 9,
   "id": "5848aa16",
   "metadata": {},
   "outputs": [
    {
     "name": "stdout",
     "output_type": "stream",
     "text": [
      "4.09 µs ± 292 ns per loop (mean ± std. dev. of 7 runs, 100000 loops each)\n"
     ]
    }
   ],
   "source": [
    "%timeit np.argmax(array1, axis=1)"
   ]
  }
 ],
 "metadata": {
  "kernelspec": {
   "display_name": "Python 3 (ipykernel)",
   "language": "python",
   "name": "python3"
  },
  "language_info": {
   "codemirror_mode": {
    "name": "ipython",
    "version": 3
   },
   "file_extension": ".py",
   "mimetype": "text/x-python",
   "name": "python",
   "nbconvert_exporter": "python",
   "pygments_lexer": "ipython3",
   "version": "3.7.11"
  }
 },
 "nbformat": 4,
 "nbformat_minor": 5
}
