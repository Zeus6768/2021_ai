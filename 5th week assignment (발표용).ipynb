{
 "cells": [
  {
   "cell_type": "markdown",
   "id": "c0c4cc96",
   "metadata": {},
   "source": [
    "# 9조 신재우, OOO, OOO"
   ]
  },
  {
   "cell_type": "markdown",
   "id": "8041bfc8",
   "metadata": {},
   "source": [
    "---\n",
    "# Numpy Array와 Python List의 비교"
   ]
  },
  {
   "cell_type": "markdown",
   "id": "79504ff9",
   "metadata": {},
   "source": [
    "## 1. array & numpy.argmin()"
   ]
  },
  {
   "cell_type": "code",
   "execution_count": 16,
   "id": "0e661dfe",
   "metadata": {},
   "outputs": [
    {
     "name": "stdout",
     "output_type": "stream",
     "text": [
      "0\n",
      "3\n"
     ]
    }
   ],
   "source": [
    "import numpy as np\n",
    "\n",
    "ar1 = np.array([1, 2, 3, 4])  # [1, 2, 3, 4]\n",
    "ar2 = np.arange(4, 0, -1)     # [4, 3, 2, 1]\n",
    "\n",
    "result = np.argmin(ar1)\n",
    "print(result)\n",
    "\n",
    "result = np.argmin(ar2)\n",
    "print(result)"
   ]
  },
  {
   "cell_type": "markdown",
   "id": "76b35129",
   "metadata": {},
   "source": [
    "위 코드 결과와 같이 `argmin()` 함수는 array에서 가장 작은 값의 인덱스를 반환합니다. "
   ]
  },
  {
   "cell_type": "markdown",
   "id": "3fb53ed7",
   "metadata": {},
   "source": [
    "## 2. 실행 시간 비교 (%timeit)"
   ]
  },
  {
   "cell_type": "markdown",
   "id": "0abdac1a",
   "metadata": {},
   "source": [
    "발표 편의를 위해 실행 시간을 먼저 비교하겠습니다.\n",
    "\n",
    "numpy의 argmin() 함수와 직접 만든 함수의 작동 시간을 비교합니다. \n",
    "\n",
    "우선 임의의 2차원 배열과 리스트를 다음과 같이 만들었습니다. \n",
    "\n",
    "10 * 5 행렬과 같은 모양입니다. "
   ]
  },
  {
   "cell_type": "code",
   "execution_count": 11,
   "id": "4d439880",
   "metadata": {},
   "outputs": [
    {
     "name": "stdout",
     "output_type": "stream",
     "text": [
      "[[4, 4, 4, 6, 8], [6, 3, 9, 2, 9], [2, 5, 8, 2, 5], [4, 1, 9, 1, 9], [4, 7, 5, 7, 6], [2, 4, 4, 4, 1], [9, 4, 8, 4, 3], [4, 8, 9, 1, 4], [3, 3, 6, 7, 6], [4, 2, 4, 3, 3]]\n",
      "[[5 2 4 6 2]\n",
      " [2 4 1 9 4]\n",
      " [8 4 9 2 2]\n",
      " [6 7 1 2 8]\n",
      " [8 2 9 6 8]\n",
      " [2 1 9 6 2]\n",
      " [7 8 7 7 9]\n",
      " [8 9 9 7 3]\n",
      " [7 4 5 8 9]\n",
      " [4 3 8 7 2]]\n"
     ]
    }
   ],
   "source": [
    "import random as r\n",
    "python_list = [[r.randrange(1, 10) for i in range(5)] for j in range(10)]\n",
    "numpy_array = np.array(list1)\n",
    "print(python_list)\n",
    "print(numpy_array)"
   ]
  },
  {
   "cell_type": "markdown",
   "id": "94aa2333",
   "metadata": {},
   "source": [
    "<br>\n",
    "\n",
    "먼저 `axis=0`일 때의 작동 시간 비교입니다. 입력값이 많을 경우 numpy의 argmin 함수가 더 빠른 것을 볼 수 있습니다. "
   ]
  },
  {
   "cell_type": "code",
   "execution_count": 12,
   "id": "f1e95471",
   "metadata": {},
   "outputs": [
    {
     "name": "stdout",
     "output_type": "stream",
     "text": [
      "1.59 µs ± 5.32 ns per loop (mean ± std. dev. of 7 runs, 1000000 loops each)\n"
     ]
    }
   ],
   "source": [
    "%timeit np.argmin(array1, axis=0)"
   ]
  },
  {
   "cell_type": "code",
   "execution_count": 13,
   "id": "49038325",
   "metadata": {},
   "outputs": [
    {
     "name": "stdout",
     "output_type": "stream",
     "text": [
      "5.02 µs ± 157 ns per loop (mean ± std. dev. of 7 runs, 100000 loops each)\n"
     ]
    }
   ],
   "source": [
    "%timeit argmin(list1, axis=0)"
   ]
  },
  {
   "cell_type": "markdown",
   "id": "cf9d1730",
   "metadata": {},
   "source": [
    "<br>\n",
    "\n",
    "`axis=1`일 때의 작동 시간 비교입니다. 마찬가지로 numpy의 함수가 더 빠르게 동작합니다. "
   ]
  },
  {
   "cell_type": "code",
   "execution_count": 14,
   "id": "1bc43544",
   "metadata": {},
   "outputs": [
    {
     "name": "stdout",
     "output_type": "stream",
     "text": [
      "1.18 µs ± 3.53 ns per loop (mean ± std. dev. of 7 runs, 1000000 loops each)\n"
     ]
    }
   ],
   "source": [
    "%timeit np.argmin(array1, axis=1)"
   ]
  },
  {
   "cell_type": "code",
   "execution_count": 15,
   "id": "ec84487f",
   "metadata": {},
   "outputs": [
    {
     "name": "stdout",
     "output_type": "stream",
     "text": [
      "3.02 µs ± 14.1 ns per loop (mean ± std. dev. of 7 runs, 100000 loops each)\n"
     ]
    }
   ],
   "source": [
    "%timeit argmin(list1, axis=1)"
   ]
  },
  {
   "cell_type": "markdown",
   "id": "6727ac8e",
   "metadata": {},
   "source": [
    "## 3. Python list & 직접 작성한 argmin()"
   ]
  },
  {
   "cell_type": "markdown",
   "id": "a9379647",
   "metadata": {},
   "source": [
    "### (1) Numpy Array"
   ]
  },
  {
   "cell_type": "markdown",
   "id": "aa0fdc0c",
   "metadata": {},
   "source": [
    "2차원의 ndarray를 만들고, `argmin()` 함수에 axis 값을 바꿔가며 계산하면 다음과 같습니다. "
   ]
  },
  {
   "cell_type": "code",
   "execution_count": 10,
   "id": "38ffada8",
   "metadata": {},
   "outputs": [
    {
     "name": "stdout",
     "output_type": "stream",
     "text": [
      "[[5 6 8]\n",
      " [5 7 1]\n",
      " [2 8 4]] \n",
      "\n",
      "[2 0 1]\n",
      "[0 2 0]\n"
     ]
    }
   ],
   "source": [
    "array = np.array([[5, 6, 8], [5, 7, 1], [2, 8, 4]])\n",
    "result1 = np.argmin(array, axis=0)\n",
    "result2 = np.argmin(array, axis=1)\n",
    "print(array, '\\n')\n",
    "print(result1)\n",
    "print(result2)"
   ]
  },
  {
   "cell_type": "markdown",
   "id": "79cfeb3b",
   "metadata": {},
   "source": [
    "2차원 array는 `axis=0`일 때 `array`에 속한 각각의 1차원 리스트를 행 방향(↓)으로 비교해서, \n",
    "\n",
    "즉 `[5, 5, 2], [6, 7, 8], [8, 1, 4]`의 각 리스트의 최솟값의 인덱스인 `[2, 0, 1]`을 반환합니다. \n",
    "\n",
    "`axis=1`일 때는 `array`에 속한 각각의 1차원 리스트 `[5, 6, 8], [5, 7, 1], [2, 8, 4]`의 최솟값의 인덱스인 `[0, 2, 0]`을 반환합니다.\n",
    "\n",
    "<br> "
   ]
  },
  {
   "cell_type": "markdown",
   "id": "cc1375a7",
   "metadata": {},
   "source": [
    "### (2) Python List"
   ]
  },
  {
   "cell_type": "markdown",
   "id": "6e30bcee",
   "metadata": {},
   "source": [
    "#### 핵심 코드\n",
    "\n",
    "```python\n",
    "# code\n",
    "리스트.index(min(리스트))\n",
    "\n",
    "# example\n",
    ">>> list1 = [1, 2, 3]\n",
    ">>> list1.index(min(list1))    \n",
    "0    # 최솟값 1의 인덱스인 0를 반환합니다.\n",
    "```"
   ]
  },
  {
   "cell_type": "markdown",
   "id": "fde16a14",
   "metadata": {},
   "source": [
    "위 코드가 함수의 핵심입니다. 리스트 최솟값의 인덱스를 반환합니다. "
   ]
  },
  {
   "cell_type": "markdown",
   "id": "7c811df5",
   "metadata": {},
   "source": [
    "numpy 라이브러리를 이용하지 않고 python에서 numpy의 `argmin()`와 동일한 함수를 만들면 다음과 같습니다. <br>\n",
    "<br>\n",
    "입력값이 2차원 리스트임을 전제로 작성한 함수이므로 2차원 리스트를 입력할 때만 정상적으로 작동합니다.<br>\n",
    "<br>\n",
    "또한 axis를 입력하는 방법을 구체화하지 않았고 axis에 0이 입력되는 경우, 1이 입력되는 경우로만 분기했으며 입력값이 잘못된 예외에 대해서는 크게 신경쓰지 않았습니다.<br>\n",
    "<br>"
   ]
  },
  {
   "cell_type": "code",
   "execution_count": 3,
   "id": "6acb3558",
   "metadata": {},
   "outputs": [],
   "source": [
    "def argmin(array, axis):\n",
    "    col = len(array[0])\n",
    "    result_array = []\n",
    "    if axis == 0:\n",
    "        for i in range(col):\n",
    "            temp = []\n",
    "            for a in array:\n",
    "                temp.append(a[i])\n",
    "            result_array.append(temp.index(min(temp)))\n",
    "        return result_array\n",
    "    elif axis == 1:\n",
    "        for a in array:\n",
    "            result_array.append(a.index(min(a)))\n",
    "        return result_array\n",
    "    else:\n",
    "        return \"error\""
   ]
  },
  {
   "cell_type": "code",
   "execution_count": null,
   "id": "41b3f187",
   "metadata": {},
   "outputs": [],
   "source": [
    "def argmin2(a, axis):\n",
    "    result=[]   #결과를 담을 배열\n",
    "    min=0   #작은 요소를 담을 변수(여기에 각 요소마다 비교하여 가장 최솟값을 저장함)\n",
    "    b=0   #최솟값의 행이나 열 정보(인덱스)를 담을 변수  \n",
    "    \n",
    "    if axis==0 or axis==-2:   #axis=0인 경우(행을 남기고 열을 없앰)\n",
    "        for i in range(len(a[0])):   #한 열의 길이를 대상으로 실행\n",
    "            min=a[0][i]   #일단 각 열의 첫번째 요소를 min으로 정한다.\n",
    "            for j in range(len(a)):   #같은 열 내에서 첫 번째 요소보다 작은 값이 있을 경우 그 값을 min으로 업데이트\n",
    "                if min>a[j][i]:\n",
    "                    min=a[j][i]\n",
    "                    b=j   #한 열에 대해서 for문이 다 돌고 난 최종값(min) 요소의 행 인덱스가 우리가 필요한 정보\n",
    "            result.append(b)   #바로 윗 줄에서 나온 정보를 함수의 맨 처음에 선언한 빈 배열(result[])에 차례대로 저장\n",
    "                \n",
    "                \n",
    "    if axis==1 or axis==-1:  #axis=1인 경우 (열을 남기고 행을 없앰)\n",
    "        for row in range(len(a)):   #한 행의 길이 대상으로 실행\n",
    "            min=a[row][0]   #각 행의 첫 번째 dythfmf min으로 정한다\n",
    "            for column in range(len(a[row])):   #같은 행 내에서 첫 번째 요소보다 작은 값이 있을 경우 그 값을 min으로 없데이트\n",
    "                if min>a[row][column]:\n",
    "                    min=a[row][column]\n",
    "                    b=column   #한 행에 대해서 for문이 다 돌고 난 최종값(min)의 요소의 열 인덱스가 우리가 필요한 정보\n",
    "            result.append(b)   #바로 윗 줄에서 나온 정보를 함수의 맨 처음에 선언한 빈 배열(result[])에 차례대로 저장\n",
    "            \n",
    "    return(result) #result배열 반환"
   ]
  },
  {
   "cell_type": "code",
   "execution_count": 4,
   "id": "2d779dad",
   "metadata": {},
   "outputs": [
    {
     "name": "stdout",
     "output_type": "stream",
     "text": [
      "[2, 0, 1]\n",
      "[0, 2, 0]\n"
     ]
    }
   ],
   "source": [
    "array = [[5, 6, 8], [5, 7, 1], [2, 8, 4]]\n",
    "result1 = argmin(array, axis=0)\n",
    "result2 = argmin(array, axis=1)\n",
    "print(result1)\n",
    "print(result2)"
   ]
  },
  {
   "cell_type": "markdown",
   "id": "ed0066e4",
   "metadata": {},
   "source": [
    "np.argmin()에서 사용한 예시와 같은 입력값에서 같은 결과가 출력되면서 잘 작동합니다. \n",
    "\n"
   ]
  },
  {
   "cell_type": "markdown",
   "id": "3cc229c4",
   "metadata": {},
   "source": [
    "<br>\n",
    "\n",
    "#### 함수\n",
    "\n",
    "함수를 위에서부터 차례대로 살펴보겠습니다. \n",
    "<br><br>\n",
    "\n",
    "```python\n",
    "def argmin(array, axis):\n",
    "    col = len(array[0])\n",
    "    result_array = []\n",
    "```\n",
    "\n",
    "\n",
    "함수를 사용할 때 배열과 axis를 입력받습니다. \n",
    "\n",
    "그리고 2차원 리스트를 행렬처럼 생각할 때 열에 해당하는 축의 길이를 첫번째 원소(행)의 길이(열)를 이용해 미리 입력했습니다. \n",
    "\n",
    "예를 들어 위에서 작성했던 `[[5, 6, 8], [5, 7, 1], [2, 8, 4]]` 리스트를 입력값으로 하는 함수의 `col` 값은 3이 됩니다. \n",
    "\n",
    "이는 뒤에서 반복문 사용을 편리하게 하기 위함입니다. \n",
    "\n",
    "<br>\n",
    "\n",
    "```python\n",
    "if axis == 0:\n",
    "    for i in range(col):\n",
    "        temp = []\n",
    "        for a in array:\n",
    "            temp.append(a[i])\n",
    "        result_array.append(temp.index(min(temp)))\n",
    "    return result_array\n",
    "```\n",
    "\n",
    "\n",
    "axis가 0인 경우, 각 행의 같은 인덱스를 가진 값들을 비교합니다. \n",
    "\n",
    "모든 행을 순회하며 같은 인덱스의 값을 임시 리스트 `temp`에 모은 뒤, `temp`의 최소값의 인덱스를 결과 리스트에 저장합니다.\n",
    "\n",
    "해당 명령을 열의 개수만큼 반복하면 원하는 결과를 얻을 수 있습니다. \n",
    "\n",
    "<br>\n",
    "\n",
    "```python\n",
    "elif axis == 1:\n",
    "    for a in array:\n",
    "        result_array.append(a.index(min(a)))\n",
    "    return result_array\n",
    "```\n",
    "\n",
    "\n",
    "axis가 1인 경우, 모든 행을 순회하며 각 행의 최솟값의 인덱스를 결과 리스트에 저장하여 반환합니다. \n",
    "\n",
    "<br>\n",
    "\n",
    "```python\n",
    "else:\n",
    "    return \"error\"\n",
    "```\n",
    "\n",
    "\n",
    "axis에 0이나 1이 아닌 값을 입력할 경우 오류 메시지를 반환합니다. \n",
    "<br><br>"
   ]
  }
 ],
 "metadata": {
  "kernelspec": {
   "display_name": "Python 3 (ipykernel)",
   "language": "python",
   "name": "python3"
  },
  "language_info": {
   "codemirror_mode": {
    "name": "ipython",
    "version": 3
   },
   "file_extension": ".py",
   "mimetype": "text/x-python",
   "name": "python",
   "nbconvert_exporter": "python",
   "pygments_lexer": "ipython3",
   "version": "3.7.11"
  }
 },
 "nbformat": 4,
 "nbformat_minor": 5
}
