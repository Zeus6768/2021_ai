{
 "cells": [
  {
   "cell_type": "markdown",
   "id": "49f8db1a",
   "metadata": {},
   "source": [
    "# 2015123056 신재우\n",
    "## AI프로그래밍(금) 4주차 과제\n",
    "<hr>\n",
    "\n",
    "# 목차\n",
    "- [클래스의 정의](#클래스의-정의)\n",
    "- [클래스의 사용](#클래스의-사용)\n",
    "- [%timeit](#%timeit)\n",
    "\n",
    "<hr>"
   ]
  },
  {
   "cell_type": "markdown",
   "id": "f86994e6",
   "metadata": {},
   "source": [
    "## 클래스의 정의"
   ]
  },
  {
   "cell_type": "markdown",
   "id": "e423d1ae",
   "metadata": {},
   "source": [
    "<br>\n",
    "객체지향 프로그래밍은 사람이 일반적으로 생각하는 방식과 유사하게 현실의 존재들을 코드로 표현하는 방법이라고 할 수 있습니다. \n",
    "<br><br>\n",
    "자동차 설계도가 클래스라면, 실제로 우리가 눈으로 보는 자동차는 객체라고 할 수 있습니다. \n",
    "<br><br>\n",
    "객체지향의 가장 기본적인 개념인 클래스를 정의하고 사용하는 방법에 대해 알아보겠습니다. "
   ]
  },
  {
   "cell_type": "code",
   "execution_count": 1,
   "id": "36385205",
   "metadata": {},
   "outputs": [],
   "source": [
    "class 클래스명:\n",
    "    속성 = '값'\n",
    "    \n",
    "    def 메소드명(self):\n",
    "        pass"
   ]
  },
  {
   "cell_type": "markdown",
   "id": "3fd06515",
   "metadata": {},
   "source": [
    "파이썬에서 클래스는 위와 같이 정의합니다. \n",
    "<br><br>\n",
    "클래스 내부의 변수는 속성(attribute), 함수는 메소드(method)라고 부릅니다.\n",
    "<br><br>\n",
    "자동차의 크기, 엔진 종류, 배기량 등의 특징이 속성이라면 가속, 정지, 주유 등의 행위는 메소드라고 생각할 수 있습니다. \n",
    "<br><br>"
   ]
  },
  {
   "cell_type": "markdown",
   "id": "33860a90",
   "metadata": {},
   "source": [
    "### 3주차 실습 코드\n",
    "<br>\n",
    "3주차 실습에서 작성한 코드를 예시로 클래스를 정의하고 사용하는 방법을 알아보겠습니다. \n",
    "<br><br>\n",
    "이름, 성별, 나이를 속성으로 가지는 Person 클래스를 정의했습니다. "
   ]
  },
  {
   "cell_type": "code",
   "execution_count": 2,
   "id": "421e2de6",
   "metadata": {},
   "outputs": [],
   "source": [
    "class Person:\n",
    "    def __init__(self, name, sex):\n",
    "        self.name = name\n",
    "        self.sex = sex\n",
    "        self.age = 0\n",
    "\n",
    "    def set_name(self, name):\n",
    "        self.name = name\n",
    "\n",
    "    def set_sex(self, sex):\n",
    "        self.sex = sex\n",
    "\n",
    "    def set_age(self, age):\n",
    "        self.age = age\n",
    "\n",
    "    def print_info(self):\n",
    "        print(f\"name: {self.name}\\n sex: {self.sex}\\n age: {self.age}\")"
   ]
  },
  {
   "cell_type": "markdown",
   "id": "a3667d15",
   "metadata": {},
   "source": [
    "\"`__init__`\"을 이름으로 가지는 메소드는 클래스를 이용해 객체를 생성하는 방법을 정의합니다. \n",
    "<br><br>\n",
    "Person 클래스를 이용해 객체를 만들고 싶다면 `self, name, sex` 중 `name, sex`에 해당하는 변수를 입력해야 합니다. \n",
    "<br><br>\n",
    "Person 클래스를 이용해 생성된 모든 객체의 `age`는 0으로 초기화되고, `set_age` 메소드를 사용해서만 바꿀 수 있습니다. \n",
    "<br><br>\n",
    "`self`는 생성된 객체를 의미하며 클래스 밖에서 함수를 정의할 때와 다르게 메소드를 정의할 때 쓰는 예약어로, 실제로 `self`에 해당하는 값을 입력받지는 않습니다. \n",
    "<br><br>\n",
    "그리고 이름, 성별, 나이를 바꿀 수 있도록 `set_name, set_sex, set_age`라는 메소드를 정의했으며, \n",
    "<br><br>\n",
    "마지막으로 생성된 객체의 모든 속성을 출력해주는 메소드 `print_info`를 정의했습니다. \n",
    "<br><br>"
   ]
  },
  {
   "cell_type": "markdown",
   "id": "663f463c",
   "metadata": {},
   "source": [
    "## 클래스의 사용"
   ]
  },
  {
   "cell_type": "code",
   "execution_count": 3,
   "id": "fe9a414b",
   "metadata": {},
   "outputs": [],
   "source": [
    "kim = Person(\"Kim\", \"F\")\n",
    "lee = Person(\"Lee\", \"M\")\n",
    "park = Person(\"Park\", \"F\")"
   ]
  },
  {
   "cell_type": "markdown",
   "id": "2758daf5",
   "metadata": {},
   "source": [
    "객체 생성 예시는 위와 같습니다.\n",
    "<br><br>\n",
    "앞에서 말한 것처럼 name, sex를 입력받아 객체를 생성합니다. \n",
    "<br><br>\n",
    "Kim, Lee, Park이라는 이름의 사람 3명의 객체가 생성됐습니다. \n",
    "<br><br>"
   ]
  },
  {
   "cell_type": "code",
   "execution_count": 4,
   "id": "4e29a980",
   "metadata": {
    "scrolled": true
   },
   "outputs": [
    {
     "name": "stdout",
     "output_type": "stream",
     "text": [
      "Kim\n",
      "M\n",
      "0\n"
     ]
    }
   ],
   "source": [
    "print(kim.name)\n",
    "print(lee.sex)\n",
    "print(park.age)"
   ]
  },
  {
   "cell_type": "markdown",
   "id": "29d94d5b",
   "metadata": {},
   "source": [
    "입력된 이름과 성별을 보기 위해 속성을 출력하는 예시는 위와 같습니다. \n",
    "<br><br>"
   ]
  },
  {
   "cell_type": "code",
   "execution_count": 5,
   "id": "be5360b5",
   "metadata": {},
   "outputs": [
    {
     "name": "stdout",
     "output_type": "stream",
     "text": [
      "name: Kim\n",
      " sex: F\n",
      " age: 10\n",
      "name: Lee\n",
      " sex: M\n",
      " age: 20\n",
      "name: Park\n",
      " sex: F\n",
      " age: 30\n"
     ]
    }
   ],
   "source": [
    "kim.set_age(10)\n",
    "lee.set_age(20)\n",
    "park.set_age(30)\n",
    "\n",
    "kim.print_info()\n",
    "lee.print_info()\n",
    "park.print_info()"
   ]
  },
  {
   "cell_type": "markdown",
   "id": "0bb27a0a",
   "metadata": {},
   "source": [
    "앞에서 모든 객체의 age 속성은 0이었지만, \n",
    "`set_age` 메소드를 를 실행한 후 `print_info` 메소드를 통해 각 개체의 age 속성이 10, 20, 30으로 바뀐 것을 확인했습니다. \n",
    "<br><br>"
   ]
  },
  {
   "cell_type": "code",
   "execution_count": 6,
   "id": "532d2735",
   "metadata": {},
   "outputs": [
    {
     "name": "stdout",
     "output_type": "stream",
     "text": [
      "name: Choi\n",
      " sex: F\n",
      " age: 10\n",
      "name: Lee\n",
      " sex: F\n",
      " age: 20\n",
      "name: Park\n",
      " sex: F\n",
      " age: 35\n"
     ]
    }
   ],
   "source": [
    "kim.set_name(\"Choi\")\n",
    "lee.set_sex(\"F\")\n",
    "park.set_age(\"35\")\n",
    "\n",
    "kim.print_info()\n",
    "lee.print_info()\n",
    "park.print_info()"
   ]
  },
  {
   "cell_type": "markdown",
   "id": "76ec0f81",
   "metadata": {},
   "source": [
    "마지막으로 `set_name, set_sex` 메소드 또한 실행했습니다. \n",
    "<br><br>\n",
    "입력한 값으로 속성이 바뀌는 것을 확인할 수 있습니다. \n",
    "<br><br>"
   ]
  },
  {
   "cell_type": "markdown",
   "id": "e033a5a7",
   "metadata": {},
   "source": [
    "## %timeit"
   ]
  },
  {
   "cell_type": "markdown",
   "id": "d61fc02b",
   "metadata": {},
   "source": [
    "<br>\n",
    "주피터 노트북에서 개발자의 편의를 위해 제공하는 명령어 중 `%timeit`에 대해 알아보겠습니다. \n",
    "<br><br>\n",
    "`%timeit`은 실행하는 코드의 맨 앞에 써서 해당 line의 실행 시간을 측정합니다. "
   ]
  },
  {
   "cell_type": "code",
   "execution_count": 7,
   "id": "e38c299d",
   "metadata": {},
   "outputs": [
    {
     "name": "stdout",
     "output_type": "stream",
     "text": [
      "234 ns ± 2.95 ns per loop (mean ± std. dev. of 7 runs, 1000000 loops each)\n"
     ]
    }
   ],
   "source": [
    "%timeit jay = Person(\"Jay\", 'M')"
   ]
  },
  {
   "cell_type": "markdown",
   "id": "a32e6e3f",
   "metadata": {},
   "source": [
    "다음과 같은 출력을 받았습니다. \n",
    "<br><br>\n",
    "`226 ns ± 0.967 ns per loop (mean ± std. dev. of 7 runs, 1000000 loops each)`\n",
    "<br><br>\n",
    "해당 코드 한 줄의 실행 시간의 평균이 226ns이며 표준편차가 0.967ns라는 의미입니다. \n",
    "<br><br>\n",
    "위의 코드를 백만 번 반복하여 표본의 평균을 얻고, 그 백만 번 반복을 총 7번 반복하여 평균과 표준편차를 얻습니다.  \n",
    "<br>"
   ]
  }
 ],
 "metadata": {
  "kernelspec": {
   "display_name": "Python 3 (ipykernel)",
   "language": "python",
   "name": "python3"
  },
  "language_info": {
   "codemirror_mode": {
    "name": "ipython",
    "version": 3
   },
   "file_extension": ".py",
   "mimetype": "text/x-python",
   "name": "python",
   "nbconvert_exporter": "python",
   "pygments_lexer": "ipython3",
   "version": "3.7.11"
  }
 },
 "nbformat": 4,
 "nbformat_minor": 5
}
