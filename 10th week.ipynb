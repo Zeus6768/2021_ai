{
 "cells": [
  {
   "cell_type": "code",
   "execution_count": null,
   "id": "73aa82b6",
   "metadata": {},
   "outputs": [],
   "source": [
    "import torch\n"
   ]
  },
  {
   "cell_type": "markdown",
   "id": "0d9b5cbe",
   "metadata": {},
   "source": [
    "# 1. Chain Rule"
   ]
  },
  {
   "cell_type": "markdown",
   "id": "fef245b4",
   "metadata": {},
   "source": [
    "함수가 여러번 곱했을 때 최초 입력값과 최종 출력값의 관계"
   ]
  },
  {
   "cell_type": "code",
   "execution_count": null,
   "id": "703ba3af",
   "metadata": {},
   "outputs": [],
   "source": []
  },
  {
   "cell_type": "markdown",
   "id": "0de7f73b",
   "metadata": {},
   "source": [
    "# 2. Gradient Descent"
   ]
  },
  {
   "cell_type": "markdown",
   "id": "b15b5d34",
   "metadata": {},
   "source": [
    "# 3. Classification"
   ]
  },
  {
   "cell_type": "markdown",
   "id": "a6a08ea5",
   "metadata": {},
   "source": [
    "# 4. One Hot"
   ]
  },
  {
   "cell_type": "markdown",
   "id": "bc8c56a5",
   "metadata": {},
   "source": [
    "# 5. Neuron"
   ]
  },
  {
   "cell_type": "markdown",
   "id": "cec22731",
   "metadata": {},
   "source": [
    "# 6. Artificial Neuron"
   ]
  },
  {
   "cell_type": "markdown",
   "id": "06d4a100",
   "metadata": {},
   "source": [
    "인공 뉴런. 컴퓨터를 이용해 뉴런을 흉내낸 것. \n",
    "Activation Function : 활성 함수, 역치 판단\n",
    "우리는 그중 ReLu를 사용할 것이다. "
   ]
  }
 ],
 "metadata": {
  "kernelspec": {
   "display_name": "Python 3 (ipykernel)",
   "language": "python",
   "name": "python3"
  },
  "language_info": {
   "codemirror_mode": {
    "name": "ipython",
    "version": 3
   },
   "file_extension": ".py",
   "mimetype": "text/x-python",
   "name": "python",
   "nbconvert_exporter": "python",
   "pygments_lexer": "ipython3",
   "version": "3.7.11"
  }
 },
 "nbformat": 4,
 "nbformat_minor": 5
}
