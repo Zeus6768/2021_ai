{
 "cells": [
  {
   "cell_type": "markdown",
   "id": "252b5992",
   "metadata": {},
   "source": [
    "이다슴 2017125048  (9조)팀원: 최원주, 신재우"
   ]
  },
  {
   "cell_type": "markdown",
   "id": "2e22b87c",
   "metadata": {},
   "source": [
    "# argmin\n",
    "\n",
    "<br>\n",
    "<br>\n",
    "<br>"
   ]
  },
  {
   "cell_type": "markdown",
   "id": "9af471e2",
   "metadata": {},
   "source": [
    "## argmin이란\n",
    "\n",
    "<br>\n",
    "\n",
    "배열 내에서 최솟값의 위치(인덱스)를 알려주는 함수. Numpy 라이브러리의 ndarray 데이터 타입에 대한 함수이다. argmin 함수는 연산의 방향을 지정해 줄 수 있다. 2차원에서 axis의 방향은 0,1이 있는데 이는 각각 -2와 -1과 동일하다. 아래의 직접 만든 argmin 함수에서 원리를 상세하게 설명하겠다."
   ]
  },
  {
   "cell_type": "markdown",
   "id": "2645f4f3",
   "metadata": {},
   "source": [
    "<br>\n",
    "\n",
    "## 1. numpy를 이용한 argmin"
   ]
  },
  {
   "cell_type": "markdown",
   "id": "e08c7723",
   "metadata": {},
   "source": [
    "<br>\n",
    "\n",
    "numpy 모듈 import하기"
   ]
  },
  {
   "cell_type": "code",
   "execution_count": 169,
   "id": "f81cdfc3",
   "metadata": {},
   "outputs": [],
   "source": [
    "import numpy as np"
   ]
  },
  {
   "cell_type": "markdown",
   "id": "9fa3875b",
   "metadata": {},
   "source": [
    "<br>\n",
    "2차원 ndarray 만들기"
   ]
  },
  {
   "cell_type": "code",
   "execution_count": 29,
   "id": "7603c014",
   "metadata": {},
   "outputs": [],
   "source": [
    "a=np.array([[4,5,6],[1,2,3]])"
   ]
  },
  {
   "cell_type": "markdown",
   "id": "99348080",
   "metadata": {},
   "source": [
    "<br>\n",
    "axis를 바꿔가면서 argmin 함수 실행시키고 시간 측정해보기"
   ]
  },
  {
   "cell_type": "code",
   "execution_count": 30,
   "id": "11e4ead5",
   "metadata": {},
   "outputs": [
    {
     "data": {
      "text/plain": [
       "array([1, 1, 1], dtype=int64)"
      ]
     },
     "execution_count": 30,
     "metadata": {},
     "output_type": "execute_result"
    }
   ],
   "source": [
    "np.argmin(a, axis=0)"
   ]
  },
  {
   "cell_type": "code",
   "execution_count": 31,
   "id": "9c132aa9",
   "metadata": {
    "scrolled": true
   },
   "outputs": [
    {
     "name": "stdout",
     "output_type": "stream",
     "text": [
      "2.27 µs ± 103 ns per loop (mean ± std. dev. of 7 runs, 100000 loops each)\n"
     ]
    }
   ],
   "source": [
    "%timeit np.argmin(a, axis=0)"
   ]
  },
  {
   "cell_type": "code",
   "execution_count": 32,
   "id": "3ea75ee0",
   "metadata": {},
   "outputs": [
    {
     "data": {
      "text/plain": [
       "array([1, 1, 1], dtype=int64)"
      ]
     },
     "execution_count": 32,
     "metadata": {},
     "output_type": "execute_result"
    }
   ],
   "source": [
    "np.argmin(a, axis=-2)"
   ]
  },
  {
   "cell_type": "code",
   "execution_count": 33,
   "id": "806e8a19",
   "metadata": {},
   "outputs": [
    {
     "name": "stdout",
     "output_type": "stream",
     "text": [
      "2.29 µs ± 57.5 ns per loop (mean ± std. dev. of 7 runs, 100000 loops each)\n"
     ]
    }
   ],
   "source": [
    "%timeit np.argmin(a, axis=-2)"
   ]
  },
  {
   "cell_type": "code",
   "execution_count": 34,
   "id": "a361be2a",
   "metadata": {
    "scrolled": true
   },
   "outputs": [
    {
     "data": {
      "text/plain": [
       "array([0, 0], dtype=int64)"
      ]
     },
     "execution_count": 34,
     "metadata": {},
     "output_type": "execute_result"
    }
   ],
   "source": [
    "np.argmin(a, axis=1)"
   ]
  },
  {
   "cell_type": "code",
   "execution_count": 35,
   "id": "2d6e34c0",
   "metadata": {},
   "outputs": [
    {
     "name": "stdout",
     "output_type": "stream",
     "text": [
      "1.87 µs ± 40.1 ns per loop (mean ± std. dev. of 7 runs, 1000000 loops each)\n"
     ]
    }
   ],
   "source": [
    "%timeit np.argmin(a, axis=1)"
   ]
  },
  {
   "cell_type": "code",
   "execution_count": 36,
   "id": "bf0bb47b",
   "metadata": {},
   "outputs": [
    {
     "data": {
      "text/plain": [
       "array([0, 0], dtype=int64)"
      ]
     },
     "execution_count": 36,
     "metadata": {},
     "output_type": "execute_result"
    }
   ],
   "source": [
    "np.argmin(a, axis=-1)"
   ]
  },
  {
   "cell_type": "code",
   "execution_count": 37,
   "id": "8db7c9e8",
   "metadata": {},
   "outputs": [
    {
     "name": "stdout",
     "output_type": "stream",
     "text": [
      "1.85 µs ± 39.5 ns per loop (mean ± std. dev. of 7 runs, 1000000 loops each)\n"
     ]
    }
   ],
   "source": [
    "%timeit np.argmin(a, axis=-1)"
   ]
  },
  {
   "cell_type": "markdown",
   "id": "74e84c5c",
   "metadata": {},
   "source": [
    "<br>\n",
    "\n",
    "## 예시"
   ]
  },
  {
   "cell_type": "markdown",
   "id": "3838f0c4",
   "metadata": {},
   "source": [
    "<br>\n",
    "<br>\n",
    "numpy 예시1"
   ]
  },
  {
   "cell_type": "code",
   "execution_count": 74,
   "id": "cdfa5fab",
   "metadata": {},
   "outputs": [],
   "source": [
    "a=np.array([[1,2,3,4],[5,6,7,8],[9,10,11,12]])"
   ]
  },
  {
   "cell_type": "code",
   "execution_count": 75,
   "id": "4140a4f2",
   "metadata": {},
   "outputs": [
    {
     "data": {
      "text/plain": [
       "array([0, 0, 0, 0], dtype=int64)"
      ]
     },
     "execution_count": 75,
     "metadata": {},
     "output_type": "execute_result"
    }
   ],
   "source": [
    "np.argmin(a,axis=0)"
   ]
  },
  {
   "cell_type": "code",
   "execution_count": 76,
   "id": "7465c089",
   "metadata": {},
   "outputs": [
    {
     "name": "stdout",
     "output_type": "stream",
     "text": [
      "2.25 µs ± 108 ns per loop (mean ± std. dev. of 7 runs, 100000 loops each)\n"
     ]
    }
   ],
   "source": [
    "%timeit np.argmin(a,axis=0)"
   ]
  },
  {
   "cell_type": "code",
   "execution_count": 77,
   "id": "18fc99cf",
   "metadata": {},
   "outputs": [
    {
     "data": {
      "text/plain": [
       "array([0, 0, 0, 0], dtype=int64)"
      ]
     },
     "execution_count": 77,
     "metadata": {},
     "output_type": "execute_result"
    }
   ],
   "source": [
    "np.argmin(a,axis=-2)"
   ]
  },
  {
   "cell_type": "code",
   "execution_count": 78,
   "id": "de8a9f67",
   "metadata": {},
   "outputs": [
    {
     "name": "stdout",
     "output_type": "stream",
     "text": [
      "2.56 µs ± 144 ns per loop (mean ± std. dev. of 7 runs, 100000 loops each)\n"
     ]
    }
   ],
   "source": [
    "%timeit np.argmin(a,axis=-2)"
   ]
  },
  {
   "cell_type": "code",
   "execution_count": 79,
   "id": "93f86225",
   "metadata": {},
   "outputs": [
    {
     "data": {
      "text/plain": [
       "array([0, 0, 0], dtype=int64)"
      ]
     },
     "execution_count": 79,
     "metadata": {},
     "output_type": "execute_result"
    }
   ],
   "source": [
    "np.argmin(a,axis=1)"
   ]
  },
  {
   "cell_type": "code",
   "execution_count": 80,
   "id": "7ef4a864",
   "metadata": {},
   "outputs": [
    {
     "name": "stdout",
     "output_type": "stream",
     "text": [
      "1.81 µs ± 57.2 ns per loop (mean ± std. dev. of 7 runs, 1000000 loops each)\n"
     ]
    }
   ],
   "source": [
    "%timeit np.argmin(a,axis=1)"
   ]
  },
  {
   "cell_type": "code",
   "execution_count": 81,
   "id": "21a2ee64",
   "metadata": {},
   "outputs": [
    {
     "data": {
      "text/plain": [
       "array([0, 0, 0], dtype=int64)"
      ]
     },
     "execution_count": 81,
     "metadata": {},
     "output_type": "execute_result"
    }
   ],
   "source": [
    "np.argmin(a,axis=-1)"
   ]
  },
  {
   "cell_type": "code",
   "execution_count": 82,
   "id": "5dbc070e",
   "metadata": {},
   "outputs": [
    {
     "name": "stdout",
     "output_type": "stream",
     "text": [
      "2.13 µs ± 315 ns per loop (mean ± std. dev. of 7 runs, 1000000 loops each)\n"
     ]
    }
   ],
   "source": [
    "%timeit np.argmin(a,axis=-1)"
   ]
  },
  {
   "cell_type": "markdown",
   "id": "0f0ea893",
   "metadata": {},
   "source": [
    "<br>\n",
    "<br>\n",
    "<br>\n",
    "numpy 예시2"
   ]
  },
  {
   "cell_type": "code",
   "execution_count": 83,
   "id": "4935f58d",
   "metadata": {},
   "outputs": [],
   "source": [
    "a=np.array([[6,11,31], [4,5,6], [14,2,6]])"
   ]
  },
  {
   "cell_type": "code",
   "execution_count": 84,
   "id": "cdd30304",
   "metadata": {},
   "outputs": [
    {
     "data": {
      "text/plain": [
       "array([1, 2, 1], dtype=int64)"
      ]
     },
     "execution_count": 84,
     "metadata": {},
     "output_type": "execute_result"
    }
   ],
   "source": [
    "np.argmin(a,axis=0)"
   ]
  },
  {
   "cell_type": "code",
   "execution_count": 85,
   "id": "ffa47a0f",
   "metadata": {},
   "outputs": [
    {
     "name": "stdout",
     "output_type": "stream",
     "text": [
      "2.39 µs ± 156 ns per loop (mean ± std. dev. of 7 runs, 100000 loops each)\n"
     ]
    }
   ],
   "source": [
    "%timeit np.argmin(a,axis=0)"
   ]
  },
  {
   "cell_type": "code",
   "execution_count": 86,
   "id": "abe9ff25",
   "metadata": {},
   "outputs": [
    {
     "data": {
      "text/plain": [
       "array([1, 2, 1], dtype=int64)"
      ]
     },
     "execution_count": 86,
     "metadata": {},
     "output_type": "execute_result"
    }
   ],
   "source": [
    "np.argmin(a,axis=-2)"
   ]
  },
  {
   "cell_type": "code",
   "execution_count": 87,
   "id": "d09cd88d",
   "metadata": {},
   "outputs": [
    {
     "name": "stdout",
     "output_type": "stream",
     "text": [
      "3.2 µs ± 254 ns per loop (mean ± std. dev. of 7 runs, 100000 loops each)\n"
     ]
    }
   ],
   "source": [
    "%timeit np.argmin(a,axis=-2)"
   ]
  },
  {
   "cell_type": "code",
   "execution_count": 88,
   "id": "2867fb05",
   "metadata": {},
   "outputs": [
    {
     "data": {
      "text/plain": [
       "array([0, 0, 1], dtype=int64)"
      ]
     },
     "execution_count": 88,
     "metadata": {},
     "output_type": "execute_result"
    }
   ],
   "source": [
    "np.argmin(a,axis=1)"
   ]
  },
  {
   "cell_type": "code",
   "execution_count": 89,
   "id": "ced54551",
   "metadata": {},
   "outputs": [
    {
     "name": "stdout",
     "output_type": "stream",
     "text": [
      "2.03 µs ± 261 ns per loop (mean ± std. dev. of 7 runs, 1000000 loops each)\n"
     ]
    }
   ],
   "source": [
    "%timeit np.argmin(a,axis=1)"
   ]
  },
  {
   "cell_type": "code",
   "execution_count": 90,
   "id": "0f4db59c",
   "metadata": {},
   "outputs": [
    {
     "data": {
      "text/plain": [
       "array([0, 0, 1], dtype=int64)"
      ]
     },
     "execution_count": 90,
     "metadata": {},
     "output_type": "execute_result"
    }
   ],
   "source": [
    "np.argmin(a,axis=-1)"
   ]
  },
  {
   "cell_type": "code",
   "execution_count": 91,
   "id": "76e2ab8c",
   "metadata": {},
   "outputs": [
    {
     "name": "stdout",
     "output_type": "stream",
     "text": [
      "2.14 µs ± 252 ns per loop (mean ± std. dev. of 7 runs, 1000000 loops each)\n"
     ]
    }
   ],
   "source": [
    "%timeit np.argmin(a,axis=-1)"
   ]
  },
  {
   "cell_type": "markdown",
   "id": "75d2aeaf",
   "metadata": {},
   "source": [
    "<br>\n",
    "<br>\n",
    "<br>\n",
    "numpy 예시3"
   ]
  },
  {
   "cell_type": "code",
   "execution_count": 92,
   "id": "9b145232",
   "metadata": {},
   "outputs": [],
   "source": [
    "a=np.array([[9,8,7],[6,5,4],[3,2,1]])"
   ]
  },
  {
   "cell_type": "code",
   "execution_count": 93,
   "id": "6c11f18c",
   "metadata": {},
   "outputs": [
    {
     "data": {
      "text/plain": [
       "array([2, 2, 2], dtype=int64)"
      ]
     },
     "execution_count": 93,
     "metadata": {},
     "output_type": "execute_result"
    }
   ],
   "source": [
    "np.argmin(a,axis=0)"
   ]
  },
  {
   "cell_type": "code",
   "execution_count": 94,
   "id": "9b4e1dd0",
   "metadata": {},
   "outputs": [
    {
     "name": "stdout",
     "output_type": "stream",
     "text": [
      "2.29 µs ± 42.4 ns per loop (mean ± std. dev. of 7 runs, 100000 loops each)\n"
     ]
    }
   ],
   "source": [
    "%timeit np.argmin(a,axis=0)"
   ]
  },
  {
   "cell_type": "code",
   "execution_count": 95,
   "id": "edee0820",
   "metadata": {},
   "outputs": [
    {
     "data": {
      "text/plain": [
       "array([2, 2, 2], dtype=int64)"
      ]
     },
     "execution_count": 95,
     "metadata": {},
     "output_type": "execute_result"
    }
   ],
   "source": [
    "np.argmin(a,axis=-2)"
   ]
  },
  {
   "cell_type": "code",
   "execution_count": 96,
   "id": "b9ba217b",
   "metadata": {},
   "outputs": [
    {
     "name": "stdout",
     "output_type": "stream",
     "text": [
      "2.36 µs ± 164 ns per loop (mean ± std. dev. of 7 runs, 100000 loops each)\n"
     ]
    }
   ],
   "source": [
    "%timeit np.argmin(a,axis=-2)"
   ]
  },
  {
   "cell_type": "code",
   "execution_count": 97,
   "id": "53f96bc5",
   "metadata": {},
   "outputs": [
    {
     "data": {
      "text/plain": [
       "array([2, 2, 2], dtype=int64)"
      ]
     },
     "execution_count": 97,
     "metadata": {},
     "output_type": "execute_result"
    }
   ],
   "source": [
    "np.argmin(a,axis=1)"
   ]
  },
  {
   "cell_type": "code",
   "execution_count": 98,
   "id": "5db1a4de",
   "metadata": {},
   "outputs": [
    {
     "name": "stdout",
     "output_type": "stream",
     "text": [
      "2.17 µs ± 194 ns per loop (mean ± std. dev. of 7 runs, 1000000 loops each)\n"
     ]
    }
   ],
   "source": [
    "%timeit np.argmin(a,axis=1)"
   ]
  },
  {
   "cell_type": "code",
   "execution_count": 99,
   "id": "ed13a08b",
   "metadata": {},
   "outputs": [
    {
     "data": {
      "text/plain": [
       "array([2, 2, 2], dtype=int64)"
      ]
     },
     "execution_count": 99,
     "metadata": {},
     "output_type": "execute_result"
    }
   ],
   "source": [
    "np.argmin(a,axis=-1)"
   ]
  },
  {
   "cell_type": "code",
   "execution_count": 100,
   "id": "080fb0a5",
   "metadata": {},
   "outputs": [
    {
     "name": "stdout",
     "output_type": "stream",
     "text": [
      "2.18 µs ± 201 ns per loop (mean ± std. dev. of 7 runs, 1000000 loops each)\n"
     ]
    }
   ],
   "source": [
    "%timeit np.argmin(a,axis=-1)"
   ]
  },
  {
   "cell_type": "markdown",
   "id": "d4b127b8",
   "metadata": {},
   "source": [
    "<br>\n",
    "<br>\n",
    "<br>\n",
    "numpy 예시4"
   ]
  },
  {
   "cell_type": "code",
   "execution_count": 101,
   "id": "55ebd5ae",
   "metadata": {
    "scrolled": true
   },
   "outputs": [],
   "source": [
    "a=np.array([[4,5,6],[1,2,3]])"
   ]
  },
  {
   "cell_type": "code",
   "execution_count": 102,
   "id": "7860108f",
   "metadata": {},
   "outputs": [
    {
     "data": {
      "text/plain": [
       "array([1, 1, 1], dtype=int64)"
      ]
     },
     "execution_count": 102,
     "metadata": {},
     "output_type": "execute_result"
    }
   ],
   "source": [
    "np.argmin(a,axis=0)"
   ]
  },
  {
   "cell_type": "code",
   "execution_count": 103,
   "id": "e0983a50",
   "metadata": {},
   "outputs": [
    {
     "name": "stdout",
     "output_type": "stream",
     "text": [
      "2.31 µs ± 102 ns per loop (mean ± std. dev. of 7 runs, 100000 loops each)\n"
     ]
    }
   ],
   "source": [
    "%timeit np.argmin(a,axis=0)"
   ]
  },
  {
   "cell_type": "code",
   "execution_count": 104,
   "id": "2edb0047",
   "metadata": {},
   "outputs": [
    {
     "data": {
      "text/plain": [
       "array([1, 1, 1], dtype=int64)"
      ]
     },
     "execution_count": 104,
     "metadata": {},
     "output_type": "execute_result"
    }
   ],
   "source": [
    "np.argmin(a,axis=-2)"
   ]
  },
  {
   "cell_type": "code",
   "execution_count": 105,
   "id": "dafde2bb",
   "metadata": {},
   "outputs": [
    {
     "name": "stdout",
     "output_type": "stream",
     "text": [
      "2.35 µs ± 143 ns per loop (mean ± std. dev. of 7 runs, 100000 loops each)\n"
     ]
    }
   ],
   "source": [
    "%timeit np.argmin(a,axis=-2)"
   ]
  },
  {
   "cell_type": "code",
   "execution_count": 106,
   "id": "df249159",
   "metadata": {},
   "outputs": [
    {
     "data": {
      "text/plain": [
       "array([0, 0], dtype=int64)"
      ]
     },
     "execution_count": 106,
     "metadata": {},
     "output_type": "execute_result"
    }
   ],
   "source": [
    "np.argmin(a,axis=1)"
   ]
  },
  {
   "cell_type": "code",
   "execution_count": 107,
   "id": "f6010476",
   "metadata": {},
   "outputs": [
    {
     "name": "stdout",
     "output_type": "stream",
     "text": [
      "2.1 µs ± 189 ns per loop (mean ± std. dev. of 7 runs, 1000000 loops each)\n"
     ]
    }
   ],
   "source": [
    "%timeit np.argmin(a,axis=1)"
   ]
  },
  {
   "cell_type": "code",
   "execution_count": 108,
   "id": "50f05bd9",
   "metadata": {},
   "outputs": [
    {
     "data": {
      "text/plain": [
       "array([0, 0], dtype=int64)"
      ]
     },
     "execution_count": 108,
     "metadata": {},
     "output_type": "execute_result"
    }
   ],
   "source": [
    "np.argmin(a,axis=-1)"
   ]
  },
  {
   "cell_type": "code",
   "execution_count": 109,
   "id": "d0bc375c",
   "metadata": {
    "scrolled": false
   },
   "outputs": [
    {
     "name": "stdout",
     "output_type": "stream",
     "text": [
      "2.15 µs ± 193 ns per loop (mean ± std. dev. of 7 runs, 1000000 loops each)\n"
     ]
    }
   ],
   "source": [
    "%timeit np.argmin(a,axis=-1)"
   ]
  },
  {
   "cell_type": "markdown",
   "id": "748bfa08",
   "metadata": {},
   "source": [
    "<br>\n",
    "<br>\n",
    "<br>\n",
    "numpy 예시5"
   ]
  },
  {
   "cell_type": "code",
   "execution_count": 178,
   "id": "9f520bcf",
   "metadata": {},
   "outputs": [],
   "source": [
    "a=np.array([[1,2,3,4], [-1,2,5,-6],[0,-100,10,0]])"
   ]
  },
  {
   "cell_type": "code",
   "execution_count": 179,
   "id": "49455b24",
   "metadata": {},
   "outputs": [
    {
     "data": {
      "text/plain": [
       "array([1, 2, 0, 1], dtype=int64)"
      ]
     },
     "execution_count": 179,
     "metadata": {},
     "output_type": "execute_result"
    }
   ],
   "source": [
    "np.argmin(a,axis=0)"
   ]
  },
  {
   "cell_type": "code",
   "execution_count": 180,
   "id": "4c1ce88a",
   "metadata": {},
   "outputs": [
    {
     "data": {
      "text/plain": [
       "array([1, 2, 0, 1], dtype=int64)"
      ]
     },
     "execution_count": 180,
     "metadata": {},
     "output_type": "execute_result"
    }
   ],
   "source": [
    "np.argmin(a,axis=-2)"
   ]
  },
  {
   "cell_type": "code",
   "execution_count": 181,
   "id": "36a0460e",
   "metadata": {
    "scrolled": true
   },
   "outputs": [
    {
     "data": {
      "text/plain": [
       "array([0, 3, 1], dtype=int64)"
      ]
     },
     "execution_count": 181,
     "metadata": {},
     "output_type": "execute_result"
    }
   ],
   "source": [
    "np.argmin(a,axis=1)"
   ]
  },
  {
   "cell_type": "code",
   "execution_count": 182,
   "id": "4f110463",
   "metadata": {},
   "outputs": [
    {
     "data": {
      "text/plain": [
       "array([0, 3, 1], dtype=int64)"
      ]
     },
     "execution_count": 182,
     "metadata": {},
     "output_type": "execute_result"
    }
   ],
   "source": [
    "np.argmin(a,axis=-1)"
   ]
  },
  {
   "cell_type": "markdown",
   "id": "49f813a8",
   "metadata": {},
   "source": [
    "<br>\n",
    "<br>\n",
    "<br>\n",
    "\n",
    "#  2. Python 기본 list를 이용한 argmin"
   ]
  },
  {
   "cell_type": "markdown",
   "id": "81ba78d7",
   "metadata": {},
   "source": [
    "<br>\n",
    "함수는 argmin으로 정의하고 입력값은 배열과, 방향(axis)이다. 2차원 배열이므로 axis는 0(-2)과 1(-1) 두 가지로 정의한다."
   ]
  },
  {
   "cell_type": "markdown",
   "id": "9530db16",
   "metadata": {},
   "source": [
    "argmin 함수의 결과값을 담을 빈 배열을 미리 선언하고, 함수 내에서 사용될 최솟값을 담을 변수, 최솟값의 행이나 열 정보를 담을 변수 또한 선언한다"
   ]
  },
  {
   "cell_type": "markdown",
   "id": "ebeed535",
   "metadata": {},
   "source": [
    "<br>\n",
    "\n",
    "## 1. 함수 정의하기"
   ]
  },
  {
   "cell_type": "code",
   "execution_count": 173,
   "id": "0471027f",
   "metadata": {},
   "outputs": [],
   "source": [
    "def argmin(a, axis):\n",
    "    result=[]   #결과를 담을 배열\n",
    "    min=0   #작은 요소를 담을 변수(여기에 각 요소마다 비교하여 가장 최솟값을 저장함)\n",
    "    b=0   #최솟값의 행이나 열 정보(인덱스)를 담을 변수  \n",
    "    \n",
    "    if axis==0 or axis==-2:   #axis=0인 경우(행을 남기고 열을 없앰)\n",
    "        for i in range(len(a[0])):   #한 열의 길이를 대상으로 실행\n",
    "            min=a[0][i]   #일단 각 열의 첫번째 요소를 min으로 정한다.\n",
    "            for j in range(len(a)):   #같은 열 내에서 첫 번째 요소보다 작은 값이 있을 경우 그 값을 min으로 업데이트\n",
    "                if min>a[j][i]:\n",
    "                    min=a[j][i]\n",
    "                    b=j   #한 열에 대해서 for문이 다 돌고 난 최종값(min) 요소의 행 인덱스가 우리가 필요한 정보\n",
    "            result.append(b)   #바로 윗 줄에서 나온 정보를 함수의 맨 처음에 선언한 빈 배열(result[])에 차례대로 저장\n",
    "                \n",
    "                \n",
    "    if axis==1 or axis==-1:  #axis=1인 경우 (열을 남기고 행을 없앰)\n",
    "        for row in range(len(a)):   #한 행의 길이 대상으로 실행\n",
    "            min=a[row][0]   #각 행의 첫 번째 dythfmf min으로 정한다\n",
    "            for column in range(len(a[row])):   #같은 행 내에서 첫 번째 요소보다 작은 값이 있을 경우 그 값을 min으로 없데이트\n",
    "                if min>a[row][column]:\n",
    "                    min=a[row][column]\n",
    "                    b=column   #한 행에 대해서 for문이 다 돌고 난 최종값(min)의 요소의 열 인덱스가 우리가 필요한 정보\n",
    "            result.append(b)   #바로 윗 줄에서 나온 정보를 함수의 맨 처음에 선언한 빈 배열(result[])에 차례대로 저장\n",
    "            \n",
    "    return(result) #result배열 반환\n",
    "\n"
   ]
  },
  {
   "cell_type": "markdown",
   "id": "315e6123",
   "metadata": {},
   "source": [
    "<br>\n",
    "\n",
    "## 2. 예시"
   ]
  },
  {
   "cell_type": "markdown",
   "id": "c67e3d63",
   "metadata": {},
   "source": [
    "numpy의 예시에서 사용했던 배열들에 대해 직접 만든 함수가 제대로 작동하는지 테스트해 보자. 아래에선 직접 만든 함수와 numpy의 argmin 함수를 이용했을 경우를 차례대로 보여주겠다."
   ]
  },
  {
   "cell_type": "markdown",
   "id": "a236052e",
   "metadata": {},
   "source": [
    "<br>\n",
    "<br>\n",
    "<br>\n",
    "예시1"
   ]
  },
  {
   "cell_type": "code",
   "execution_count": 127,
   "id": "9b99f4a0",
   "metadata": {
    "scrolled": true
   },
   "outputs": [],
   "source": [
    "a=[[1,2,3,4],[5,6,7,8],[9,10,11,12]]"
   ]
  },
  {
   "cell_type": "code",
   "execution_count": 128,
   "id": "cfb6a3f3",
   "metadata": {},
   "outputs": [
    {
     "data": {
      "text/plain": [
       "[0, 0, 0, 0]"
      ]
     },
     "execution_count": 128,
     "metadata": {},
     "output_type": "execute_result"
    }
   ],
   "source": [
    "argmin(a,0)"
   ]
  },
  {
   "cell_type": "code",
   "execution_count": 129,
   "id": "b69e4f08",
   "metadata": {},
   "outputs": [
    {
     "name": "stdout",
     "output_type": "stream",
     "text": [
      "3.9 µs ± 238 ns per loop (mean ± std. dev. of 7 runs, 100000 loops each)\n"
     ]
    }
   ],
   "source": [
    "%timeit argmin(a,0)"
   ]
  },
  {
   "cell_type": "code",
   "execution_count": 130,
   "id": "e2abab8c",
   "metadata": {},
   "outputs": [
    {
     "data": {
      "text/plain": [
       "[0, 0, 0, 0]"
      ]
     },
     "execution_count": 130,
     "metadata": {},
     "output_type": "execute_result"
    }
   ],
   "source": [
    "argmin(a,-2)"
   ]
  },
  {
   "cell_type": "code",
   "execution_count": 131,
   "id": "29930728",
   "metadata": {},
   "outputs": [
    {
     "name": "stdout",
     "output_type": "stream",
     "text": [
      "3.3 µs ± 398 ns per loop (mean ± std. dev. of 7 runs, 100000 loops each)\n"
     ]
    }
   ],
   "source": [
    "%timeit argmin(a,-2)"
   ]
  },
  {
   "cell_type": "code",
   "execution_count": 132,
   "id": "31da3aab",
   "metadata": {
    "scrolled": true
   },
   "outputs": [
    {
     "data": {
      "text/plain": [
       "[0, 0, 0]"
      ]
     },
     "execution_count": 132,
     "metadata": {},
     "output_type": "execute_result"
    }
   ],
   "source": [
    "argmin(a,1)"
   ]
  },
  {
   "cell_type": "code",
   "execution_count": 133,
   "id": "2cd603eb",
   "metadata": {},
   "outputs": [
    {
     "name": "stdout",
     "output_type": "stream",
     "text": [
      "3.56 µs ± 86.1 ns per loop (mean ± std. dev. of 7 runs, 100000 loops each)\n"
     ]
    }
   ],
   "source": [
    "%timeit  argmin(a,1)"
   ]
  },
  {
   "cell_type": "code",
   "execution_count": 134,
   "id": "f7b72baa",
   "metadata": {},
   "outputs": [
    {
     "data": {
      "text/plain": [
       "[0, 0, 0]"
      ]
     },
     "execution_count": 134,
     "metadata": {},
     "output_type": "execute_result"
    }
   ],
   "source": [
    "argmin(a,-1)"
   ]
  },
  {
   "cell_type": "code",
   "execution_count": 135,
   "id": "a0c3cfc4",
   "metadata": {},
   "outputs": [
    {
     "name": "stdout",
     "output_type": "stream",
     "text": [
      "4.96 µs ± 541 ns per loop (mean ± std. dev. of 7 runs, 100000 loops each)\n"
     ]
    }
   ],
   "source": [
    "%timeit  argmin(a,-1)"
   ]
  },
  {
   "attachments": {
    "image.png": {
     "image/png": "[encoded data removed]"
    }
   },
   "cell_type": "markdown",
   "id": "08acea55",
   "metadata": {},
   "source": [
    "![image.png](attachment:image.png)"
   ]
  },
  {
   "cell_type": "markdown",
   "id": "14a7d36a",
   "metadata": {},
   "source": [
    "<br>\n",
    "<br>\n",
    "<br>\n",
    "예시2"
   ]
  },
  {
   "cell_type": "code",
   "execution_count": 136,
   "id": "b94dd802",
   "metadata": {},
   "outputs": [],
   "source": [
    "a=[[6,11,31], [4,5,6], [14,2,6]]       "
   ]
  },
  {
   "cell_type": "code",
   "execution_count": 137,
   "id": "2c25b22f",
   "metadata": {},
   "outputs": [
    {
     "data": {
      "text/plain": [
       "[1, 2, 1]"
      ]
     },
     "execution_count": 137,
     "metadata": {},
     "output_type": "execute_result"
    }
   ],
   "source": [
    "argmin(a,0)"
   ]
  },
  {
   "cell_type": "code",
   "execution_count": 138,
   "id": "4f8a9839",
   "metadata": {},
   "outputs": [
    {
     "name": "stdout",
     "output_type": "stream",
     "text": [
      "3.06 µs ± 194 ns per loop (mean ± std. dev. of 7 runs, 100000 loops each)\n"
     ]
    }
   ],
   "source": [
    "%timeit argmin(a,0)"
   ]
  },
  {
   "cell_type": "code",
   "execution_count": 139,
   "id": "e09dd1c9",
   "metadata": {},
   "outputs": [
    {
     "data": {
      "text/plain": [
       "[1, 2, 1]"
      ]
     },
     "execution_count": 139,
     "metadata": {},
     "output_type": "execute_result"
    }
   ],
   "source": [
    "argmin(a,-2)"
   ]
  },
  {
   "cell_type": "code",
   "execution_count": 140,
   "id": "d0c5878f",
   "metadata": {},
   "outputs": [
    {
     "name": "stdout",
     "output_type": "stream",
     "text": [
      "3.07 µs ± 388 ns per loop (mean ± std. dev. of 7 runs, 100000 loops each)\n"
     ]
    }
   ],
   "source": [
    "%timeit argmin(a,-2)"
   ]
  },
  {
   "cell_type": "code",
   "execution_count": 141,
   "id": "d3246e31",
   "metadata": {},
   "outputs": [
    {
     "data": {
      "text/plain": [
       "[0, 0, 1]"
      ]
     },
     "execution_count": 141,
     "metadata": {},
     "output_type": "execute_result"
    }
   ],
   "source": [
    "argmin(a,1)"
   ]
  },
  {
   "cell_type": "code",
   "execution_count": 142,
   "id": "4ad90324",
   "metadata": {},
   "outputs": [
    {
     "name": "stdout",
     "output_type": "stream",
     "text": [
      "3.06 µs ± 418 ns per loop (mean ± std. dev. of 7 runs, 100000 loops each)\n"
     ]
    }
   ],
   "source": [
    "%timeit argmin(a,1)"
   ]
  },
  {
   "cell_type": "code",
   "execution_count": 143,
   "id": "277fb5ae",
   "metadata": {},
   "outputs": [
    {
     "data": {
      "text/plain": [
       "[0, 0, 1]"
      ]
     },
     "execution_count": 143,
     "metadata": {},
     "output_type": "execute_result"
    }
   ],
   "source": [
    "argmin(a,-1)"
   ]
  },
  {
   "cell_type": "code",
   "execution_count": 144,
   "id": "522ab79c",
   "metadata": {
    "scrolled": true
   },
   "outputs": [
    {
     "name": "stdout",
     "output_type": "stream",
     "text": [
      "3.19 µs ± 229 ns per loop (mean ± std. dev. of 7 runs, 100000 loops each)\n"
     ]
    }
   ],
   "source": [
    "%timeit argmin(a,-1)"
   ]
  },
  {
   "attachments": {
    "image.png": {
     "image/png": "[encoded data removed]"
    }
   },
   "cell_type": "markdown",
   "id": "a79c2665",
   "metadata": {},
   "source": [
    "![image.png](attachment:image.png)"
   ]
  },
  {
   "cell_type": "markdown",
   "id": "464d1d22",
   "metadata": {},
   "source": [
    "<br>\n",
    "<br>\n",
    "<br>\n",
    "예시3"
   ]
  },
  {
   "cell_type": "code",
   "execution_count": 145,
   "id": "c77d53a9",
   "metadata": {
    "scrolled": true
   },
   "outputs": [],
   "source": [
    "a=[[9,8,7],[6,5,4],[3,2,1]]"
   ]
  },
  {
   "cell_type": "code",
   "execution_count": 146,
   "id": "7cdd5b8d",
   "metadata": {},
   "outputs": [
    {
     "data": {
      "text/plain": [
       "[2, 2, 2]"
      ]
     },
     "execution_count": 146,
     "metadata": {},
     "output_type": "execute_result"
    }
   ],
   "source": [
    "argmin(a,0)"
   ]
  },
  {
   "cell_type": "code",
   "execution_count": 147,
   "id": "089da909",
   "metadata": {},
   "outputs": [
    {
     "name": "stdout",
     "output_type": "stream",
     "text": [
      "3.05 µs ± 145 ns per loop (mean ± std. dev. of 7 runs, 100000 loops each)\n"
     ]
    }
   ],
   "source": [
    "%timeit argmin(a,0)"
   ]
  },
  {
   "cell_type": "code",
   "execution_count": 148,
   "id": "b05b4cd2",
   "metadata": {},
   "outputs": [
    {
     "data": {
      "text/plain": [
       "[2, 2, 2]"
      ]
     },
     "execution_count": 148,
     "metadata": {},
     "output_type": "execute_result"
    }
   ],
   "source": [
    "argmin(a,-2)"
   ]
  },
  {
   "cell_type": "code",
   "execution_count": 149,
   "id": "9eeffc6d",
   "metadata": {},
   "outputs": [
    {
     "name": "stdout",
     "output_type": "stream",
     "text": [
      "3.24 µs ± 137 ns per loop (mean ± std. dev. of 7 runs, 100000 loops each)\n"
     ]
    }
   ],
   "source": [
    "%timeit argmin(a,-2)"
   ]
  },
  {
   "cell_type": "code",
   "execution_count": 150,
   "id": "3767439a",
   "metadata": {},
   "outputs": [
    {
     "data": {
      "text/plain": [
       "[2, 2, 2]"
      ]
     },
     "execution_count": 150,
     "metadata": {},
     "output_type": "execute_result"
    }
   ],
   "source": [
    "argmin(a,1)"
   ]
  },
  {
   "cell_type": "code",
   "execution_count": 151,
   "id": "a25e3b18",
   "metadata": {},
   "outputs": [
    {
     "name": "stdout",
     "output_type": "stream",
     "text": [
      "3.2 µs ± 279 ns per loop (mean ± std. dev. of 7 runs, 100000 loops each)\n"
     ]
    }
   ],
   "source": [
    "%timeit argmin(a,1)"
   ]
  },
  {
   "cell_type": "code",
   "execution_count": 152,
   "id": "2a40896e",
   "metadata": {},
   "outputs": [
    {
     "data": {
      "text/plain": [
       "[2, 2, 2]"
      ]
     },
     "execution_count": 152,
     "metadata": {},
     "output_type": "execute_result"
    }
   ],
   "source": [
    "argmin(a,-1)"
   ]
  },
  {
   "cell_type": "code",
   "execution_count": 153,
   "id": "d439e5ba",
   "metadata": {
    "scrolled": true
   },
   "outputs": [
    {
     "name": "stdout",
     "output_type": "stream",
     "text": [
      "4.49 µs ± 584 ns per loop (mean ± std. dev. of 7 runs, 100000 loops each)\n"
     ]
    }
   ],
   "source": [
    "%timeit argmin(a,-1)"
   ]
  },
  {
   "attachments": {
    "image.png": {
     "image/png": "[encoded data removed]"
    }
   },
   "cell_type": "markdown",
   "id": "f88722db",
   "metadata": {},
   "source": [
    "![image.png](attachment:image.png)"
   ]
  },
  {
   "cell_type": "markdown",
   "id": "38928174",
   "metadata": {},
   "source": [
    "<br>\n",
    "<br>\n",
    "<br>\n",
    "예시4"
   ]
  },
  {
   "cell_type": "code",
   "execution_count": 154,
   "id": "afa9bcd1",
   "metadata": {
    "scrolled": false
   },
   "outputs": [],
   "source": [
    "a=[[4,5,6],[1,2,3]]"
   ]
  },
  {
   "cell_type": "code",
   "execution_count": 155,
   "id": "f70c8611",
   "metadata": {},
   "outputs": [
    {
     "data": {
      "text/plain": [
       "[1, 1, 1]"
      ]
     },
     "execution_count": 155,
     "metadata": {},
     "output_type": "execute_result"
    }
   ],
   "source": [
    "argmin(a,0)"
   ]
  },
  {
   "cell_type": "code",
   "execution_count": 156,
   "id": "5c7e9b6d",
   "metadata": {},
   "outputs": [
    {
     "name": "stdout",
     "output_type": "stream",
     "text": [
      "2.54 µs ± 117 ns per loop (mean ± std. dev. of 7 runs, 100000 loops each)\n"
     ]
    }
   ],
   "source": [
    "%timeit argmin(a,0)"
   ]
  },
  {
   "cell_type": "code",
   "execution_count": 157,
   "id": "d8565426",
   "metadata": {},
   "outputs": [
    {
     "data": {
      "text/plain": [
       "[1, 1, 1]"
      ]
     },
     "execution_count": 157,
     "metadata": {},
     "output_type": "execute_result"
    }
   ],
   "source": [
    "argmin(a,-2)"
   ]
  },
  {
   "cell_type": "code",
   "execution_count": 158,
   "id": "810b8179",
   "metadata": {},
   "outputs": [
    {
     "name": "stdout",
     "output_type": "stream",
     "text": [
      "2.54 µs ± 86.7 ns per loop (mean ± std. dev. of 7 runs, 100000 loops each)\n"
     ]
    }
   ],
   "source": [
    "%timeit argmin(a,-2)"
   ]
  },
  {
   "cell_type": "code",
   "execution_count": 159,
   "id": "993b12d5",
   "metadata": {},
   "outputs": [
    {
     "data": {
      "text/plain": [
       "[0, 0]"
      ]
     },
     "execution_count": 159,
     "metadata": {},
     "output_type": "execute_result"
    }
   ],
   "source": [
    "argmin(a,1)"
   ]
  },
  {
   "cell_type": "code",
   "execution_count": 160,
   "id": "94133816",
   "metadata": {},
   "outputs": [
    {
     "name": "stdout",
     "output_type": "stream",
     "text": [
      "2.4 µs ± 212 ns per loop (mean ± std. dev. of 7 runs, 1000000 loops each)\n"
     ]
    }
   ],
   "source": [
    "%timeit argmin(a,1)"
   ]
  },
  {
   "cell_type": "code",
   "execution_count": 161,
   "id": "3fe4d2d0",
   "metadata": {},
   "outputs": [
    {
     "data": {
      "text/plain": [
       "[0, 0]"
      ]
     },
     "execution_count": 161,
     "metadata": {},
     "output_type": "execute_result"
    }
   ],
   "source": [
    "argmin(a,-1)"
   ]
  },
  {
   "cell_type": "code",
   "execution_count": 162,
   "id": "e36e4fb8",
   "metadata": {
    "scrolled": true
   },
   "outputs": [
    {
     "name": "stdout",
     "output_type": "stream",
     "text": [
      "2.29 µs ± 299 ns per loop (mean ± std. dev. of 7 runs, 1000000 loops each)\n"
     ]
    }
   ],
   "source": [
    "%timeit argmin(a,-1)"
   ]
  },
  {
   "attachments": {
    "image.png": {
     "image/png": "[encoded data removed]"
    }
   },
   "cell_type": "markdown",
   "id": "63173e85",
   "metadata": {},
   "source": [
    "![image.png](attachment:image.png)"
   ]
  },
  {
   "cell_type": "markdown",
   "id": "1c3361a3",
   "metadata": {},
   "source": [
    "<br>\n",
    "<br>\n",
    "<br>\n",
    "예시 5"
   ]
  },
  {
   "cell_type": "code",
   "execution_count": 183,
   "id": "e3b552aa",
   "metadata": {},
   "outputs": [],
   "source": [
    "a=[[1,2,3,4], [-1,2,5,-6],[0,-100,10,0]]"
   ]
  },
  {
   "cell_type": "code",
   "execution_count": 184,
   "id": "8af90a75",
   "metadata": {},
   "outputs": [
    {
     "data": {
      "text/plain": [
       "[1, 2, 2, 1]"
      ]
     },
     "execution_count": 184,
     "metadata": {},
     "output_type": "execute_result"
    }
   ],
   "source": [
    "argmin(a,0)"
   ]
  },
  {
   "cell_type": "code",
   "execution_count": 185,
   "id": "8ab5cedb",
   "metadata": {},
   "outputs": [
    {
     "data": {
      "text/plain": [
       "[1, 2, 2, 1]"
      ]
     },
     "execution_count": 185,
     "metadata": {},
     "output_type": "execute_result"
    }
   ],
   "source": [
    "argmin(a,-2)"
   ]
  },
  {
   "cell_type": "code",
   "execution_count": 186,
   "id": "49b4ccdb",
   "metadata": {},
   "outputs": [
    {
     "data": {
      "text/plain": [
       "[0, 3, 1]"
      ]
     },
     "execution_count": 186,
     "metadata": {},
     "output_type": "execute_result"
    }
   ],
   "source": [
    "argmin(a,1)"
   ]
  },
  {
   "cell_type": "code",
   "execution_count": 187,
   "id": "1541d554",
   "metadata": {},
   "outputs": [
    {
     "data": {
      "text/plain": [
       "[0, 3, 1]"
      ]
     },
     "execution_count": 187,
     "metadata": {},
     "output_type": "execute_result"
    }
   ],
   "source": [
    "argmin(a,-1)"
   ]
  },
  {
   "attachments": {
    "image-2.png": {
     "image/png": "[encoded data removed]"
    }
   },
   "cell_type": "markdown",
   "id": "166dffc0",
   "metadata": {},
   "source": [
    "![image-2.png](attachment:image-2.png)"
   ]
  },
  {
   "cell_type": "markdown",
   "id": "aed77e52",
   "metadata": {},
   "source": [
    "<br>\n",
    "<br>\n",
    "<br>\n",
    "numpy의 ndarray 데이터 타입의 함수 argmin과 직접 만든 함수 argmin의 실행 결과가 동일한 것을 확인하였다. 다만 시간은 numpy의 argmin을 사용하는 것이 직접 만든 함수를 사용하는 것보다 시간 면에서 대부분의 경우 조금 더 효율적이라는 것을 확인 할 수 있었다."
   ]
  }
 ],
 "metadata": {
  "kernelspec": {
   "display_name": "Python 3 (ipykernel)",
   "language": "python",
   "name": "python3"
  },
  "language_info": {
   "codemirror_mode": {
    "name": "ipython",
    "version": 3
   },
   "file_extension": ".py",
   "mimetype": "text/x-python",
   "name": "python",
   "nbconvert_exporter": "python",
   "pygments_lexer": "ipython3",
   "version": "3.7.11"
  }
 },
 "nbformat": 4,
 "nbformat_minor": 5
}
