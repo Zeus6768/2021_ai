{
 "cells": [
  {
   "cell_type": "markdown",
   "id": "85262529",
   "metadata": {},
   "source": [
    "# Multi-Layer Perceptron with MNIST handwritten digits classification "
   ]
  },
  {
   "cell_type": "markdown",
   "id": "72f8eedf",
   "metadata": {},
   "source": [
    "## 1. Module Import"
   ]
  },
  {
   "cell_type": "code",
   "execution_count": 1,
   "id": "315ebfe8",
   "metadata": {},
   "outputs": [],
   "source": [
    "import numpy as np\n",
    "import matplotlib.pyplot as plt\n",
    "\n",
    "import torch\n",
    "from torchvision import datasets\n",
    "import torchvision.transforms as transforms"
   ]
  },
  {
   "cell_type": "markdown",
   "id": "798bac6b",
   "metadata": {},
   "source": [
    "## 2. 딥러닝 모델을 설계할 때 활용하는 장비 확인"
   ]
  },
  {
   "cell_type": "code",
   "execution_count": 2,
   "id": "4c9880ae",
   "metadata": {},
   "outputs": [
    {
     "name": "stdout",
     "output_type": "stream",
     "text": [
      "Using PyTorch version: 1.10.0  Device: cpu\n"
     ]
    }
   ],
   "source": [
    "if torch.cuda.is_available():\n",
    "    device = torch.device('cuda')\n",
    "else:\n",
    "    device = torch.device('cpu')\n",
    "\n",
    "print('Using PyTorch version:', torch.__version__, ' Device:', device)"
   ]
  },
  {
   "cell_type": "markdown",
   "id": "3f5590af",
   "metadata": {},
   "source": [
    "## 3. MNIST 데이터 다운로드 (Train data와 Test data 분리하기)"
   ]
  },
  {
   "cell_type": "code",
   "execution_count": 3,
   "id": "00908077",
   "metadata": {},
   "outputs": [
    {
     "name": "stdout",
     "output_type": "stream",
     "text": [
      "Downloading http://yann.lecun.com/exdb/mnist/train-images-idx3-ubyte.gz\n"
     ]
    },
    {
     "name": "stderr",
     "output_type": "stream",
     "text": [
      "\r",
      "0.0%"
     ]
    },
    {
     "name": "stdout",
     "output_type": "stream",
     "text": [
      "Downloading http://yann.lecun.com/exdb/mnist/train-images-idx3-ubyte.gz to ./data\\MNIST\\raw\\train-images-idx3-ubyte.gz\n"
     ]
    },
    {
     "name": "stderr",
     "output_type": "stream",
     "text": [
      "78.2%IOPub message rate exceeded.\n",
      "The notebook server will temporarily stop sending output\n",
      "to the client in order to avoid crashing it.\n",
      "To change this limit, set the config variable\n",
      "`--NotebookApp.iopub_msg_rate_limit`.\n",
      "\n",
      "Current values:\n",
      "NotebookApp.iopub_msg_rate_limit=1000.0 (msgs/sec)\n",
      "NotebookApp.rate_limit_window=3.0 (secs)\n",
      "\n",
      "100.0%\n"
     ]
    },
    {
     "name": "stdout",
     "output_type": "stream",
     "text": [
      "Extracting ./data\\MNIST\\raw\\train-images-idx3-ubyte.gz to ./data\\MNIST\\raw\n",
      "\n",
      "Downloading http://yann.lecun.com/exdb/mnist/train-labels-idx1-ubyte.gz\n",
      "Downloading http://yann.lecun.com/exdb/mnist/train-labels-idx1-ubyte.gz to ./data\\MNIST\\raw\\train-labels-idx1-ubyte.gz\n"
     ]
    },
    {
     "name": "stderr",
     "output_type": "stream",
     "text": [
      "102.8%\n"
     ]
    },
    {
     "name": "stdout",
     "output_type": "stream",
     "text": [
      "Extracting ./data\\MNIST\\raw\\train-labels-idx1-ubyte.gz to ./data\\MNIST\\raw\n",
      "\n",
      "Downloading http://yann.lecun.com/exdb/mnist/t10k-images-idx3-ubyte.gz\n",
      "Downloading http://yann.lecun.com/exdb/mnist/t10k-images-idx3-ubyte.gz to ./data\\MNIST\\raw\\t10k-images-idx3-ubyte.gz\n"
     ]
    },
    {
     "name": "stderr",
     "output_type": "stream",
     "text": [
      "100.0%\n"
     ]
    },
    {
     "name": "stdout",
     "output_type": "stream",
     "text": [
      "Extracting ./data\\MNIST\\raw\\t10k-images-idx3-ubyte.gz to ./data\\MNIST\\raw\n",
      "\n",
      "Downloading http://yann.lecun.com/exdb/mnist/t10k-labels-idx1-ubyte.gz\n",
      "Downloading http://yann.lecun.com/exdb/mnist/t10k-labels-idx1-ubyte.gz to ./data\\MNIST\\raw\\t10k-labels-idx1-ubyte.gz\n"
     ]
    },
    {
     "name": "stderr",
     "output_type": "stream",
     "text": [
      "112.7%"
     ]
    },
    {
     "name": "stdout",
     "output_type": "stream",
     "text": [
      "Extracting ./data\\MNIST\\raw\\t10k-labels-idx1-ubyte.gz to ./data\\MNIST\\raw\n",
      "\n"
     ]
    },
    {
     "name": "stderr",
     "output_type": "stream",
     "text": [
      "\n"
     ]
    }
   ],
   "source": [
    "BATCH_SIZE = 32\n",
    "\n",
    "train_data = datasets.MNIST('./data', train=True, download=True, transform=transforms.ToTensor())\n",
    "test_data = datasets.MNIST('./data', train=False, download=True, transform=transforms.ToTensor())\n",
    "\n",
    "train_loader = torch.utils.data.DataLoader(dataset=train_data, batch_size=BATCH_SIZE, shuffle=False)\n",
    "test_loader = torch.utils.data.DataLoader(dataset=test_data, batch_size=BATCH_SIZE, shuffle=False)\n"
   ]
  },
  {
   "cell_type": "markdown",
   "id": "17579718",
   "metadata": {},
   "source": [
    "## 4. 첫번째 batch 데이터의 크기와 타입을 확인하기"
   ]
  },
  {
   "cell_type": "code",
   "execution_count": 4,
   "id": "6d2818b7",
   "metadata": {},
   "outputs": [
    {
     "name": "stdout",
     "output_type": "stream",
     "text": [
      "X_train: torch.Size([32, 1, 28, 28]) type: torch.FloatTensor\n",
      "y_train: torch.Size([32]) type: torch.LongTensor\n"
     ]
    }
   ],
   "source": [
    "for (X_train, y_train) in train_loader:\n",
    "    print('X_train:', X_train.size(), 'type:', X_train.type())\n",
    "    print('y_train:', y_train.size(), 'type:', y_train.type())\n",
    "    break"
   ]
  },
  {
   "cell_type": "markdown",
   "id": "dfdfc2da",
   "metadata": {},
   "source": [
    "## ReLU, one_hot_encoding, softmax, cross_entropy 구하기\n",
    "\n",
    "아래 코드는 각 함수가 맞는지 확인하기 위해서 만든 임의의 값입니다. \n",
    "각 함수가 작동을 잘하는지 확인해 보세요"
   ]
  },
  {
   "cell_type": "code",
   "execution_count": 5,
   "id": "80f6bcbe",
   "metadata": {},
   "outputs": [],
   "source": [
    "test_data = torch.tensor([[1,-2,-4, 2, 5, 6, -3, -5, 0, 2],[2, -3, 4, 3, -1, -4, 3, 5, 2, -3]])\n",
    "true_label = torch.tensor([5,7])\n",
    "false_label = torch.tensor([1,0])"
   ]
  },
  {
   "cell_type": "code",
   "execution_count": 6,
   "id": "1e322d09",
   "metadata": {},
   "outputs": [],
   "source": [
    "def ReLU_func(outputs):\n",
    "    zero_tensor = torch.zeros(outputs.shape)\n",
    "    final_outputs = torch.maximum(outputs, zero_tensor)\n",
    "\n",
    "    return final_outputs"
   ]
  },
  {
   "cell_type": "markdown",
   "id": "e6b2f287",
   "metadata": {},
   "source": [
    "ReLU 함수가 맞는지 test_data를 이용하여 맞추어 보자. 아래 함수의 결과는 어떻게 예상되는가?"
   ]
  },
  {
   "cell_type": "code",
   "execution_count": 7,
   "id": "dfe43970",
   "metadata": {},
   "outputs": [
    {
     "data": {
      "text/plain": [
       "tensor([[1., 0., 0., 2., 5., 6., 0., 0., 0., 2.],\n",
       "        [2., 0., 4., 3., 0., 0., 3., 5., 2., 0.]])"
      ]
     },
     "execution_count": 7,
     "metadata": {},
     "output_type": "execute_result"
    }
   ],
   "source": [
    "ReLU_func(test_data)"
   ]
  },
  {
   "cell_type": "code",
   "execution_count": 8,
   "id": "7a8e3027",
   "metadata": {},
   "outputs": [],
   "source": [
    "def one_hot_encoding(label):\n",
    "    \n",
    "    one_hot_outputs = torch.eye(10)[label]\n",
    "    \n",
    "    return one_hot_outputs"
   ]
  },
  {
   "cell_type": "markdown",
   "id": "becd57e3",
   "metadata": {},
   "source": [
    "one_hot_encoding 함수가 맞는지 true_label, false_label을 이용하여 맞추어 보자. 아래 함수 결과는 어떻게 예상되는가?"
   ]
  },
  {
   "cell_type": "code",
   "execution_count": 9,
   "id": "e73e407c",
   "metadata": {},
   "outputs": [
    {
     "name": "stdout",
     "output_type": "stream",
     "text": [
      "tensor([[0., 0., 0., 0., 0., 1., 0., 0., 0., 0.],\n",
      "        [0., 0., 0., 0., 0., 0., 0., 1., 0., 0.]])\n",
      "tensor([[0., 1., 0., 0., 0., 0., 0., 0., 0., 0.],\n",
      "        [1., 0., 0., 0., 0., 0., 0., 0., 0., 0.]])\n",
      "tensor([[1.0000e-04, 1.0000e-04, 1.0000e-04, 1.0000e-04, 1.0000e-04, 9.9910e-01,\n",
      "         1.0000e-04, 1.0000e-04, 1.0000e-04, 1.0000e-04],\n",
      "        [1.0000e-04, 1.0000e-04, 1.0000e-04, 1.0000e-04, 1.0000e-04, 1.0000e-04,\n",
      "         1.0000e-04, 9.9910e-01, 1.0000e-04, 1.0000e-04]])\n"
     ]
    }
   ],
   "source": [
    "# 검증을 위해 아래 4줄을 사용하면 됩니다. \n",
    "tl = one_hot_encoding(true_label)\n",
    "print(tl)\n",
    "fl = one_hot_encoding(false_label)\n",
    "print(fl)\n",
    "\n",
    "# 나중을 위해서 사용될 코드 입니다. \n",
    "close_tl = tl.clone()\n",
    "close_tl[[0,1],true_label] -= 0.001\n",
    "close_tl[false_label] += 0.0001\n",
    "print(close_tl)"
   ]
  },
  {
   "cell_type": "code",
   "execution_count": 10,
   "id": "23f07c13",
   "metadata": {},
   "outputs": [],
   "source": [
    "def softmax(outputs):\n",
    "    numerator = torch.exp(outputs - torch.max(outputs))\n",
    "    denominator = torch.sum(numerator, axis=1).view(-1,1)\n",
    "    softmax = numerator/denominator\n",
    "    \n",
    "    return softmax"
   ]
  },
  {
   "cell_type": "markdown",
   "id": "36037c34",
   "metadata": {},
   "source": [
    "softmax 함수가 맞는지 test_data를 이용하여 맞추어 보자. 아래 함수의 결과는 어떻게 예상되는가?"
   ]
  },
  {
   "cell_type": "code",
   "execution_count": 11,
   "id": "361e5708",
   "metadata": {
    "scrolled": true
   },
   "outputs": [
    {
     "name": "stdout",
     "output_type": "stream",
     "text": [
      "tensor([[4.7643e-03, 2.3720e-04, 3.2102e-05, 1.2951e-02, 2.6012e-01, 7.0709e-01,\n",
      "         8.7262e-05, 1.1810e-05, 1.7527e-03, 1.2951e-02],\n",
      "        [2.8590e-02, 1.9264e-04, 2.1126e-01, 7.7716e-02, 1.4234e-03, 7.0868e-05,\n",
      "         7.7716e-02, 5.7425e-01, 2.8590e-02, 1.9264e-04]])\n"
     ]
    },
    {
     "data": {
      "text/plain": [
       "tensor([1.0000, 1.0000])"
      ]
     },
     "execution_count": 11,
     "metadata": {},
     "output_type": "execute_result"
    }
   ],
   "source": [
    "a = softmax(test_data)\n",
    "print(a)\n",
    "torch.sum(a, axis=1)"
   ]
  },
  {
   "cell_type": "code",
   "execution_count": 12,
   "id": "4e9c3da8",
   "metadata": {},
   "outputs": [],
   "source": [
    "def cross_entropy(outputs, labels):\n",
    "    return -torch.sum(labels * torch.log(outputs), axis=1)"
   ]
  },
  {
   "cell_type": "markdown",
   "id": "6dff4cae",
   "metadata": {},
   "source": [
    "cross_entropy 함수가 맞는지 test_data를 이용하여 맞추어 보자. 아래 함수의 결과는 어떻게 예상되는가? tl, fl, close_tl을 이용하여 각각의 cross entropy를 구하고 그 값이 맞는지 확인하세요 "
   ]
  },
  {
   "cell_type": "code",
   "execution_count": 13,
   "id": "9998c30d",
   "metadata": {},
   "outputs": [
    {
     "name": "stdout",
     "output_type": "stream",
     "text": [
      "tensor([0.0009, 0.0009])\n",
      "tensor([9.2103, 9.2103])\n",
      "tensor([0.3466, 0.5547])\n",
      "tensor([8.3466, 3.5547])\n"
     ]
    }
   ],
   "source": [
    "ideal_result = cross_entropy(close_tl, tl)\n",
    "non_ideal_result = cross_entropy(close_tl,fl)\n",
    "\n",
    "print(ideal_result)\n",
    "print(non_ideal_result)\n",
    "\n",
    "true_result = cross_entropy(a,tl)\n",
    "false_result = cross_entropy(a,fl)\n",
    "\n",
    "print(true_result)\n",
    "print(false_result)\n"
   ]
  },
  {
   "cell_type": "markdown",
   "id": "5c0ee4fa",
   "metadata": {},
   "source": [
    "# 학습하기\n",
    "   \n",
    "   1) input layer (입력층), hidden layer (은닉층), output layer (출력층) 으로 이루어진 모델을 이용\n",
    "\n",
    "   2) 하나의 hidden layer (은닉층)만 이용 - 은닉층의 개수는 100개로 하세요\n",
    "\n",
    "   3) 모든 것은 tensor 계산으로만 할 것!! \n"
   ]
  },
  {
   "cell_type": "code",
   "execution_count": 14,
   "id": "11604b36",
   "metadata": {},
   "outputs": [],
   "source": [
    "def training(train_loader):\n",
    "    \n",
    "    learning_rate = 0.01\n",
    "    \n",
    "    train_losses_per_epoch = []\n",
    "    test_losses_per_epoch = []\n",
    "    log_interval = 500\n",
    "    \n",
    "    train_accuracies = []\n",
    "    test_accuracies = []\n",
    "    \n",
    "    # Weight(가중치)를 초기화 (torch rand 함수 이용, 도중에 빼기 0.5를 하여 함수값이 -0.5~0.5 사이로 만드세요)\n",
    "    W_ih = torch.rand(784, 100, requires_grad=True) - 0.5\n",
    "    W_ho = torch.rand(100, 10, requires_grad=True) - 0.5\n",
    "    \n",
    "    for epoch in range(10):\n",
    "        \n",
    "        train_losses = []\n",
    "        test_losses = []\n",
    "        train_correct = 0\n",
    "        \n",
    "        for batch_idx, (image, label) in enumerate(train_loader):\n",
    "\n",
    "            # 이미지를 (batch_size, 784) 차원의 메트릭스로 만드세요\n",
    "            image = image.view(32, 28 * 28)\n",
    "            \n",
    "            # Forward propagration 계산하기.\n",
    "             # 첫번째 Layer의 값\n",
    "            outputs = torch.mm(image, W_ih)\n",
    "\n",
    "             # 결과 값(outputs)을 ReLU 함수에 적용하기\n",
    "            outputs = ReLU_func(outputs)\n",
    "\n",
    "             # 출력 layer 계산하기\n",
    "            outputs = torch.mm(outputs, W_ho) \n",
    "\n",
    "             # softmax 적용하기\n",
    "            softmaxed_outputs = softmax(outputs)\n",
    "\n",
    "             # Label을 One_hot 형태로 변환하기\n",
    "            expected_outputs = one_hot_encoding(label)\n",
    "\n",
    "             # Cross_entropy 함수를 적용하여 loss를 구하기\n",
    "            loss = cross_entropy(softmaxed_outputs, expected_outputs)\n",
    "            \n",
    "             # training accuracy 정확도 구하기 위해 맞는 샘플 개수 세기\n",
    "            pred = torch.argmax(outputs, dim=1) #여기를 채우세요\n",
    "            train_correct += torch.eq(pred, label).sum() #여기를 채우세요\n",
    "\n",
    "             # 32개의 이미지에 따른 loss를 scalar로 변환 하기\n",
    "            loss = loss.mean()\n",
    "            \n",
    "            train_losses.append(loss.item())\n",
    "\n",
    "            \n",
    "            W_ih.retain_grad()\n",
    "            W_ho.retain_grad()\n",
    "\n",
    "            # Gradinet 구하기\n",
    "            loss.backward()\n",
    "\n",
    "            with torch.no_grad():\n",
    "                # Gradient Descent 방식 적용\n",
    "                W_ih = W_ih - learning_rate * W_ih.grad\n",
    "                W_ho = W_ho - learning_rate * W_ho.grad\n",
    "\n",
    "            W_ih.requires_grad = True\n",
    "            W_ho.requires_grad = True\n",
    "\n",
    "            if batch_idx % log_interval == 0:\n",
    "                print('Train Epoch: {} [{}/{} ({:.0f}%)]\\tLoss: {:.6f}'\n",
    "                      .format(epoch, batch_idx * len(label), len(train_loader.dataset),100. * batch_idx / len(train_loader),\n",
    "                              loss.item()))\n",
    "        \n",
    "        average_loss = np.mean(train_losses)\n",
    "        train_losses_per_epoch.append(average_loss)\n",
    "        \n",
    "        train_accuracy = train_correct / len(train_loader.dataset) * 100\n",
    "        train_accuracies.append(train_accuracy)\n",
    "        print('\\nTraining set: Accuracy: {}/{} ({:.0f}%)'\n",
    "              .format(train_correct, len(train_loader.dataset),100. * train_correct / len(train_loader.dataset)))\n",
    "\n",
    "        \n",
    "        correct = 0\n",
    "        with torch.no_grad():\n",
    "            for batch_idx, (image, label) in enumerate(test_loader):\n",
    "                image = image.view(-1, 28 * 28)\n",
    "\n",
    "                # Forward propagration 계산하기.\n",
    "                 # 첫번째 Layer의 값\n",
    "                outputs = torch.mm(image, W_ih)\n",
    "\n",
    "                 # 결과 값(outputs)을 ReLU 함수에 적용하기\n",
    "                outputs = ReLU_func(outputs)\n",
    "\n",
    "                 # 출력 layer 계산 하기\n",
    "                outputs = torch.mm(outputs, W_ho)\n",
    "                \n",
    "                # Cross_entropy 함수를 적용하여 loss를 구하기\n",
    "                loss = cross_entropy(softmax(outputs), one_hot_encoding(label))\n",
    "\n",
    "                # 32개의 이미지에 따른 loss를 scalar로 변환 하기\n",
    "                loss = loss.mean()\n",
    "                test_losses.append(loss.item())\n",
    " \n",
    "                # 정확도 구하기\n",
    "                pred = torch.argmax(outputs, dim=1)\n",
    "                correct += torch.eq(pred, label).sum()\n",
    "        \n",
    "            test_accuracy = 100. * correct / len(test_loader.dataset)\n",
    "            print('Test set: Accuracy: {}/{} ({:.0f}%)\\n'\n",
    "                  .format(correct, len(test_loader.dataset),100. * correct / len(test_loader.dataset)))\n",
    "        test_losses_per_epoch.append(np.mean(test_losses))\n",
    "        test_accuracies.append(test_accuracy)\n",
    "        \n",
    "    return train_losses_per_epoch, test_losses_per_epoch, train_accuracies, test_accuracies\n"
   ]
  },
  {
   "cell_type": "code",
   "execution_count": 15,
   "id": "d73d05eb",
   "metadata": {
    "scrolled": true
   },
   "outputs": [
    {
     "name": "stdout",
     "output_type": "stream",
     "text": [
      "Train Epoch: 0 [0/60000 (0%)]\tLoss: 7.788095\n",
      "Train Epoch: 0 [16000/60000 (27%)]\tLoss: 0.828993\n",
      "Train Epoch: 0 [32000/60000 (53%)]\tLoss: 0.606884\n",
      "Train Epoch: 0 [48000/60000 (80%)]\tLoss: 0.428569\n",
      "\n",
      "Training set: Accuracy: 46341/60000 (77%)\n",
      "Test set: Accuracy: 8597/10000 (86%)\n",
      "\n",
      "Train Epoch: 1 [0/60000 (0%)]\tLoss: 0.525218\n",
      "Train Epoch: 1 [16000/60000 (27%)]\tLoss: 0.482627\n",
      "Train Epoch: 1 [32000/60000 (53%)]\tLoss: 0.393500\n",
      "Train Epoch: 1 [48000/60000 (80%)]\tLoss: 0.282804\n",
      "\n",
      "Training set: Accuracy: 52739/60000 (88%)\n",
      "Test set: Accuracy: 8909/10000 (89%)\n",
      "\n",
      "Train Epoch: 2 [0/60000 (0%)]\tLoss: 0.362145\n",
      "Train Epoch: 2 [16000/60000 (27%)]\tLoss: 0.393811\n",
      "Train Epoch: 2 [32000/60000 (53%)]\tLoss: 0.323947\n",
      "Train Epoch: 2 [48000/60000 (80%)]\tLoss: 0.214924\n",
      "\n",
      "Training set: Accuracy: 53928/60000 (90%)\n",
      "Test set: Accuracy: 9043/10000 (90%)\n",
      "\n",
      "Train Epoch: 3 [0/60000 (0%)]\tLoss: 0.265853\n",
      "Train Epoch: 3 [16000/60000 (27%)]\tLoss: 0.344079\n",
      "Train Epoch: 3 [32000/60000 (53%)]\tLoss: 0.290146\n",
      "Train Epoch: 3 [48000/60000 (80%)]\tLoss: 0.181309\n",
      "\n",
      "Training set: Accuracy: 54607/60000 (91%)\n",
      "Test set: Accuracy: 9122/10000 (91%)\n",
      "\n",
      "Train Epoch: 4 [0/60000 (0%)]\tLoss: 0.213386\n",
      "Train Epoch: 4 [16000/60000 (27%)]\tLoss: 0.313397\n",
      "Train Epoch: 4 [32000/60000 (53%)]\tLoss: 0.267864\n",
      "Train Epoch: 4 [48000/60000 (80%)]\tLoss: 0.163316\n",
      "\n",
      "Training set: Accuracy: 55075/60000 (92%)\n",
      "Test set: Accuracy: 9180/10000 (92%)\n",
      "\n",
      "Train Epoch: 5 [0/60000 (0%)]\tLoss: 0.172992\n",
      "Train Epoch: 5 [16000/60000 (27%)]\tLoss: 0.285469\n",
      "Train Epoch: 5 [32000/60000 (53%)]\tLoss: 0.254644\n",
      "Train Epoch: 5 [48000/60000 (80%)]\tLoss: 0.148672\n",
      "\n",
      "Training set: Accuracy: 55394/60000 (92%)\n",
      "Test set: Accuracy: 9230/10000 (92%)\n",
      "\n",
      "Train Epoch: 6 [0/60000 (0%)]\tLoss: 0.144674\n",
      "Train Epoch: 6 [16000/60000 (27%)]\tLoss: 0.263322\n",
      "Train Epoch: 6 [32000/60000 (53%)]\tLoss: 0.245387\n",
      "Train Epoch: 6 [48000/60000 (80%)]\tLoss: 0.137818\n",
      "\n",
      "Training set: Accuracy: 55706/60000 (93%)\n",
      "Test set: Accuracy: 9265/10000 (93%)\n",
      "\n",
      "Train Epoch: 7 [0/60000 (0%)]\tLoss: 0.123908\n",
      "Train Epoch: 7 [16000/60000 (27%)]\tLoss: 0.246082\n",
      "Train Epoch: 7 [32000/60000 (53%)]\tLoss: 0.239314\n",
      "Train Epoch: 7 [48000/60000 (80%)]\tLoss: 0.128716\n",
      "\n",
      "Training set: Accuracy: 55900/60000 (93%)\n",
      "Test set: Accuracy: 9286/10000 (93%)\n",
      "\n",
      "Train Epoch: 8 [0/60000 (0%)]\tLoss: 0.109667\n",
      "Train Epoch: 8 [16000/60000 (27%)]\tLoss: 0.233284\n",
      "Train Epoch: 8 [32000/60000 (53%)]\tLoss: 0.235307\n",
      "Train Epoch: 8 [48000/60000 (80%)]\tLoss: 0.121772\n",
      "\n",
      "Training set: Accuracy: 56089/60000 (93%)\n",
      "Test set: Accuracy: 9312/10000 (93%)\n",
      "\n",
      "Train Epoch: 9 [0/60000 (0%)]\tLoss: 0.098467\n",
      "Train Epoch: 9 [16000/60000 (27%)]\tLoss: 0.220823\n",
      "Train Epoch: 9 [32000/60000 (53%)]\tLoss: 0.233216\n",
      "Train Epoch: 9 [48000/60000 (80%)]\tLoss: 0.115594\n",
      "\n",
      "Training set: Accuracy: 56278/60000 (94%)\n",
      "Test set: Accuracy: 9339/10000 (93%)\n",
      "\n"
     ]
    }
   ],
   "source": [
    "train_losses_per_epoch, test_losses_per_epoch, train_accuracies, test_accuracies = training(train_loader)"
   ]
  },
  {
   "cell_type": "markdown",
   "id": "af562253",
   "metadata": {},
   "source": [
    "# 학습 결과 보기 \n",
    "## 1. loss 값 비교"
   ]
  },
  {
   "cell_type": "code",
   "execution_count": 16,
   "id": "24de3674",
   "metadata": {},
   "outputs": [
    {
     "data": {
      "image/png": "[encoded data removed]",
      "text/plain": [
       "<Figure size 432x288 with 1 Axes>"
      ]
     },
     "metadata": {
      "needs_background": "light"
     },
     "output_type": "display_data"
    }
   ],
   "source": [
    "x = np.arange(1,11)\n",
    "plt.plot(x, train_losses_per_epoch, x, test_losses_per_epoch)\n",
    "plt.legend(('training loss', 'test loss'), loc='upper right', shadow=True)\n",
    "plt.xlabel('Epoches --->')\n",
    "plt.ylabel('Loss --->')\n",
    "plt.xlim([0,11])\n",
    "plt.xticks(np.arange(1, 11, step=1))\n",
    "plt.show()"
   ]
  },
  {
   "cell_type": "markdown",
   "id": "2745d4ec",
   "metadata": {},
   "source": [
    "# 2. 정확도 비교"
   ]
  },
  {
   "cell_type": "code",
   "execution_count": 17,
   "id": "5e84732f",
   "metadata": {},
   "outputs": [
    {
     "data": {
      "image/png": "[encoded data removed]",
      "text/plain": [
       "<Figure size 432x288 with 1 Axes>"
      ]
     },
     "metadata": {
      "needs_background": "light"
     },
     "output_type": "display_data"
    }
   ],
   "source": [
    "x = np.arange(1,11)\n",
    "plt.plot(x, train_accuracies, x, test_accuracies)\n",
    "plt.legend(('training accuracy', 'test accuracy'), loc='lower right', shadow=True)\n",
    "plt.xlabel('Epoches --->')\n",
    "plt.ylabel('Accuracy --->')\n",
    "plt.xlim([0,11])\n",
    "plt.xticks(np.arange(1, 11, step=1))\n",
    "plt.show()"
   ]
  }
 ],
 "metadata": {
  "kernelspec": {
   "display_name": "Python 3 (ipykernel)",
   "language": "python",
   "name": "python3"
  },
  "language_info": {
   "codemirror_mode": {
    "name": "ipython",
    "version": 3
   },
   "file_extension": ".py",
   "mimetype": "text/x-python",
   "name": "python",
   "nbconvert_exporter": "python",
   "pygments_lexer": "ipython3",
   "version": "3.7.11"
  }
 },
 "nbformat": 4,
 "nbformat_minor": 5
}
